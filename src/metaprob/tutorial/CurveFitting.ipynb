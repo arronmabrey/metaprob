{
 "cells": [
  {
   "cell_type": "code",
   "execution_count": null,
   "metadata": {},
   "outputs": [],
   "source": [
    "(ns curve-fitting\n",
    "  (:refer-clojure :exclude [get contains? keys empty? dissoc assoc get-in\n",
    "                            map reduce replicate apply])\n",
    "  (:require [clojure.pprint :refer [pprint]]\n",
    "            [metaprob.syntax :refer [gen]]\n",
    "            [metaprob.compound :refer :all] ;; get, contains?, keys, empty?, dissoc, assoc, get-in\n",
    "            [metaprob.builtin :refer :all] ;; map, reduce, replicate, apply\n",
    "            [metaprob.trace :refer :all]\n",
    "            [metaprob.prelude :refer :all]\n",
    "            [metaprob.distributions :refer :all]\n",
    "            [metaprob.tutorial.jupyter :refer :all]))"
   ]
  },
  {
   "cell_type": "code",
   "execution_count": null,
   "metadata": {},
   "outputs": [],
   "source": [
    "(use 'metaprob.inference :reload-all)"
   ]
  },
  {
   "cell_type": "code",
   "execution_count": null,
   "metadata": {},
   "outputs": [],
   "source": [
    "(def generate-curve\n",
    "  (gen {:tracing-with t} []\n",
    "    (let [degree (t \"degree\" uniform-sample [0 1 2 3])\n",
    "          coeffs (map (gen [i] [i (t `(\"coeffs\" ~i) gaussian 0 (/ 5 (inc degree)))])\n",
    "                      (range (inc degree)))]\n",
    "    (gen [x]\n",
    "      (apply + \n",
    "        (map (gen [[n c]] (* c (expt x n))) coeffs))))))\n",
    "\n",
    ";; (define add-noise-to-curve\n",
    ";;   (gen [curve]\n",
    ";;     ;; Sample noise hyperparameters\n",
    ";;     (define inlier-noise (uniform 0.1 1)) ;(gamma 2 1))\n",
    ";;     (define outlier-noise (uniform 1 5)) ; (gamma 1 1))\n",
    ";;     (define prob-outlier (uniform 0 0.5)) ; (beta 1 10)\n",
    ";;     ;; Return a version of the curve that\n",
    ";;     ;; adds noise.\n",
    ";;     (gen [x]\n",
    ";;       (with-explicit-tracer t\n",
    ";;         (define is-outlier (t \"is-outlier\" flip prob-outlier))\n",
    ";;         (define mean (if is-outlier 0 (curve x)))\n",
    ";;         (define noise (if is-outlier outlier-noise inlier-noise))\n",
    ";;         (t \"y\" gaussian mean noise)))))\n",
    "\n",
    "(def add-noise-to-curve\n",
    "  (gen {:tracing-with t} [curve]\n",
    "    ;; Sample noise hyperparameters\n",
    "    (let [inlier-noise (t \"inlier-noise\" gamma 1 0.5)\n",
    "          outlier-noise (t \"outlier-noise\" gamma 4 2)\n",
    "          prob-outlier (t \"prob-outlier\" beta 5 50)]\n",
    "      (gen {:tracing-with t} [x]\n",
    "        (let [[mean noise]\n",
    "               (if (t \"outlier?\" flip prob-outlier)\n",
    "                 [0 outlier-noise]\n",
    "                 [(curve x) inlier-noise])]\n",
    "          (t \"y\" gaussian mean noise))))))\n",
    "\n",
    "\n",
    "(def curve-model\n",
    "  (gen {:tracing-with t} [xs]\n",
    "     (let [underlying-curve (t \"underlying-curve\" generate-curve)\n",
    "           noisy-curve (t \"noise-params\" add-noise-to-curve underlying-curve)]\n",
    "       (map-indexed (gen [i x] (t `(\"data\" ~i) noisy-curve x)) xs))))"
   ]
  },
  {
   "cell_type": "code",
   "execution_count": null,
   "metadata": {},
   "outputs": [],
   "source": [
    "(def make-observation-trace\n",
    "  (gen [ys]\n",
    "    {\"data\" (into {} (map-indexed (gen [i y] [i {\"y\" {:value y}}]) ys))}))"
   ]
  },
  {
   "cell_type": "code",
   "execution_count": null,
   "metadata": {},
   "outputs": [],
   "source": [
    "(def count-points\n",
    "  (gen [tr] (count (keys (trace-subtrace tr \"data\")))))\n",
    "(def get-ys\n",
    "  (gen [tr]\n",
    "    (map (gen [i] (trace-value tr `(\"data\" ~i \"y\"))) (range (count-points tr)))))"
   ]
  },
  {
   "cell_type": "code",
   "execution_count": null,
   "metadata": {},
   "outputs": [],
   "source": [
    "(def x-min -5)\n",
    "(def x-max 5)\n",
    "(def y-min -10)\n",
    "(def y-max 10)\n",
    "(def point-count 10)\n",
    "\n",
    "(def x-range (- x-max x-min))\n",
    "(def x-interval (/ x-range (- point-count 1)))\n",
    "(def y-range (- y-max y-min))\n",
    "(def y-interval (/ y-range (- point-count 1)))\n",
    "(def xs\n",
    "  (map-indexed (gen [i interval] (+ -5 (* interval i))) (repeat point-count x-interval)))"
   ]
  },
  {
   "cell_type": "code",
   "execution_count": null,
   "metadata": {},
   "outputs": [],
   "source": [
    "(def ys-linear\n",
    "  (map-indexed (gen [i x] (+ y-min (* y-interval i))) xs))"
   ]
  },
  {
   "cell_type": "code",
   "execution_count": null,
   "metadata": {},
   "outputs": [],
   "source": [
    "(def ys-bump\n",
    "    (map (gen [x] (- x 10)) [6 7 6 5 4 3 2 19 2 3]))"
   ]
  },
  {
   "cell_type": "code",
   "execution_count": null,
   "metadata": {},
   "outputs": [],
   "source": [
    "(def y-outlier (/ (- y-max y-min) 10))\n",
    "(def ys-linear-outlier\n",
    "    (map-indexed (gen [i y] (cond (= i 1) (+ (nth ys-linear 9) y-outlier)\n",
    "                                  (= i 8) (- (nth ys-linear 0) y-outlier)\n",
    "                                  true y)) ys-linear))"
   ]
  },
  {
   "cell_type": "code",
   "execution_count": null,
   "metadata": {},
   "outputs": [],
   "source": [
    "(def ys-quadr\n",
    "    (map-indexed (gen [i x] \n",
    "                   (let [real-value (+ -1 (* 0.2 x) (* 0.3 (expt x 2)))]\n",
    "                     (if (= i 4) (+ real-value 4) real-value)))\n",
    "        xs))"
   ]
  },
  {
   "cell_type": "code",
   "execution_count": null,
   "metadata": {},
   "outputs": [],
   "source": [
    "(def func-from-tr \n",
    "  (gen [tr]\n",
    "    (nth (infer-and-score :procedure generate-curve :intervention-trace (trace-subtrace tr \"underlying-curve\")) 0)))"
   ]
  },
  {
   "cell_type": "code",
   "execution_count": null,
   "metadata": {},
   "outputs": [],
   "source": [
    "(def get-is-traces\n",
    "  (gen [ys]\n",
    "    (replicate 10 (gen [] (importance-resampling curve-model [xs] (make-observation-trace ys) 1000)))))"
   ]
  },
  {
   "cell_type": "code",
   "execution_count": null,
   "metadata": {},
   "outputs": [],
   "source": [
    "(def xs-simple '(-1 0 1))\n",
    "(def ys (curve-model xs-simple))"
   ]
  },
  {
   "cell_type": "code",
   "execution_count": null,
   "metadata": {},
   "outputs": [],
   "source": [
    "(infer-and-score \n",
    "    :procedure curve-model\n",
    "    :inputs ['(0 1)]\n",
    "    :observation-trace (make-observation-trace '(1.70 -1.46)))"
   ]
  },
  {
   "cell_type": "code",
   "execution_count": null,
   "metadata": {},
   "outputs": [],
   "source": [
    "(plot-trace \n",
    "    {\"underlying-curve\" {\"degree\" {:value 1}, \"coeffs\" {0 {:value -2.47}, 1 {:value 3.96}}}, \n",
    " \"noise-params\" {\"inlier-noise\" {:value 0.75}, \n",
    " \"outlier-noise\" {:value 9.06}, \n",
    " \"prob-outlier\" {:value 0.06}}, \n",
    " \"data\" {0 {\"is-outlier\" {:value false}, \"y\" {:value 1.7}}, \n",
    " 1 {\"is-outlier\" {:value false}, \"y\" {:value -1.46}}}} 350 480)"
   ]
  },
  {
   "cell_type": "code",
   "execution_count": null,
   "metadata": {},
   "outputs": [],
   "source": [
    "(clojure.core/require '[clojure.data.json :as json])\n"
   ]
  },
  {
   "cell_type": "code",
   "execution_count": null,
   "metadata": {},
   "outputs": [],
   "source": [
    "(def serialize-curve-trace\n",
    "  (gen [tr]\n",
    "    {:inlier-noise (trace-value tr '(\"noise-params\" \"inlier-noise\"))\n",
    "     :outlier-noise (trace-value tr '(\"noise-params\" \"outlier-noise\"))\n",
    "     :prob-outlier (trace-value tr '(\"noise-params\" \"prob-outlier\"))\n",
    "     :outlier-designations (map (gen [i] (trace-value tr `(\"data\" ~i \"is-outlier\"))) (range (count xs)))\n",
    "     :degree (trace-value tr '(\"underlying-curve\" \"degree\"))\n",
    "     :coeffs (map (gen [i] (trace-value tr `(\"underlying-curve\" \"coeffs\" ~i))) (range (+ 1 (trace-value tr '(\"underlying-curve\" \"degree\")))))}))"
   ]
  },
  {
   "cell_type": "code",
   "execution_count": null,
   "metadata": {},
   "outputs": [],
   "source": [
    ";(define is-traces-linear (get-is-traces ys-linear))\n",
    "(map #(clojure.core/println (json/write-str (serialize-curve-trace (nth is-traces-linear %)))) (range 5))"
   ]
  },
  {
   "cell_type": "code",
   "execution_count": null,
   "metadata": {},
   "outputs": [],
   "source": [
    "(clojure.core/println (json/write-str (map #(map serialize-curve-trace %) [is-traces-linear])))"
   ]
  },
  {
   "cell_type": "raw",
   "metadata": {},
   "source": [
    "{\"inlier-noise\":0.3203025826287354,\"outlier-noise\":2.1827745078053087,\"prob-outlier\":0.10346420471651874,\"outlier-designations\":[false,false,false,false,false,false,false,false,false,false],\"degree\":1,\"coeffs\":[0.25942556137914496,2.080606069842025]}\n",
    "{\"inlier-noise\":0.15104982569100756,\"outlier-noise\":0.7195928851383143,\"prob-outlier\":0.02744888382649424,\"outlier-designations\":[false,false,false,false,false,false,false,false,false,false],\"degree\":1,\"coeffs\":[-0.04140218418946105,1.9978719710057904]}\n",
    "{\"inlier-noise\":0.2934489489359625,\"outlier-noise\":0.9977242271034761,\"prob-outlier\":8.696072799625476E-4,\"outlier-designations\":[false,false,false,false,false,false,false,false,false,false],\"degree\":1,\"coeffs\":[-0.15748523674217008,1.8834863244894027]}\n",
    "{\"inlier-noise\":0.30115351907696647,\"outlier-noise\":3.6001745466642445,\"prob-outlier\":0.1657168472360676,\"outlier-designations\":[false,false,false,false,false,false,false,false,false,false],\"degree\":1,\"coeffs\":[0.18134993768205582,2.0288427396849062]}\n",
    "{\"inlier-noise\":0.28712174500409615,\"outlier-noise\":1.383204786902018,\"prob-outlier\":0.1936035309265709,\"outlier-designations\":[false,false,false,false,false,true,true,false,false,false],\"degree\":1,\"coeffs\":[-0.24802180725626324,1.988229672095906]}\n",
    "{\"inlier-noise\":0.8046156063227546,\"outlier-noise\":0.634261238065272,\"prob-outlier\":0.01293693904046922,\"outlier-designations\":[false,false,false,false,false,false,false,false,false,false],\"degree\":1,\"coeffs\":[0.42952043743688717,1.969625108103368]}\n",
    "{\"inlier-noise\":0.6048009521213341,\"outlier-noise\":0.7041344683269578,\"prob-outlier\":0.021726011562084313,\"outlier-designations\":[false,false,false,false,false,false,false,false,false,false],\"degree\":1,\"coeffs\":[-0.07689009832033919,2.077300305142018]}\n",
    "{\"inlier-noise\":0.5132178283388329,\"outlier-noise\":1.1469921224563022,\"prob-outlier\":0.05008700283523149,\"outlier-designations\":[false,false,false,false,true,false,false,false,false,false],\"degree\":1,\"coeffs\":[0.36091272465001745,1.8893606624263402]}\n",
    "{\"inlier-noise\":0.6589377728434536,\"outlier-noise\":1.7709760153044656,\"prob-outlier\":0.05793699675883146,\"outlier-designations\":[false,false,false,false,false,false,false,false,false,false],\"degree\":1,\"coeffs\":[-0.2454549097821225,2.006830312196887]}\n",
    "{\"inlier-noise\":0.8019957699607595,\"outlier-noise\":4.279985544922286,\"prob-outlier\":0.01850101222457079,\"outlier-designations\":[false,false,false,false,false,false,false,false,false,false],\"degree\":1,\"coeffs\":[-0.018658869084247107,1.932774515279486]}"
   ]
  },
  {
   "cell_type": "code",
   "execution_count": null,
   "metadata": {},
   "outputs": [],
   "source": [
    "(define is-traces-lin-outlier (get-is-traces ys-linear-outlier))\n",
    "(map #(clojure.core/println (json/write-str (serialize-curve-trace (nth is-traces-lin-outlier %)))) (range 5))"
   ]
  },
  {
   "cell_type": "raw",
   "metadata": {},
   "source": [
    "{\"inlier-noise\":5.906454652069317,\"outlier-noise\":0.712205456480841,\"prob-outlier\":0.0158255059329635,\"outlier-designations\":[false,false,false,false,false,false,false,false,false,false],\"degree\":1,\"coeffs\":[1.2854194922045061,0.04602980510977737]}\n",
    "{\"inlier-noise\":1.0730945256168711,\"outlier-noise\":6.142978237545821,\"prob-outlier\":0.1633109164854183,\"outlier-designations\":[false,true,false,false,true,false,false,false,true,false],\"degree\":1,\"coeffs\":[-0.9821520656268071,1.6690942654117684]}\n",
    "{\"inlier-noise\":4.662485550994007,\"outlier-noise\":4.716606052526102,\"prob-outlier\":0.13008712528227306,\"outlier-designations\":[false,false,false,false,false,false,true,false,false,false],\"degree\":1,\"coeffs\":[1.6142440541481597,0.7027001588527285]}\n",
    "{\"inlier-noise\":7.277446544726212,\"outlier-noise\":0.5575372907547516,\"prob-outlier\":0.020418461183009273,\"outlier-designations\":[false,false,false,false,false,false,false,false,false,false],\"degree\":0,\"coeffs\":[-0.05642961014310482]}\n",
    "{\"inlier-noise\":7.408414026353044,\"outlier-noise\":3.5430037966681214,\"prob-outlier\":0.043187626459242456,\"outlier-designations\":[false,false,false,false,false,false,false,false,false,false],\"degree\":0,\"coeffs\":[1.3333514434464429]}\n",
    "{\"inlier-noise\":0.31219850191517085,\"outlier-noise\":3.338906072744802,\"prob-outlier\":0.09968095018392398,\"outlier-designations\":[false,true,false,false,false,false,false,false,true,false],\"degree\":1,\"coeffs\":[0.08942101868203549,1.9611536774361777]}\n",
    "{\"inlier-noise\":6.055315521893033,\"outlier-noise\":3.431815548211557,\"prob-outlier\":0.14145747939271902,\"outlier-designations\":[false,false,false,false,false,true,true,false,false,false],\"degree\":0,\"coeffs\":[0.011841535792496053]}\n",
    "{\"inlier-noise\":5.1285379585511555,\"outlier-noise\":1.0970094501898071,\"prob-outlier\":0.14738578320715623,\"outlier-designations\":[false,false,false,false,false,false,false,false,false,false],\"degree\":1,\"coeffs\":[-0.5059636910140588,0.7310564370817128]}\n",
    "{\"inlier-noise\":6.335800326083608,\"outlier-noise\":1.5353779846738818,\"prob-outlier\":0.08383226996151028,\"outlier-designations\":[false,false,false,false,false,true,false,false,false,false],\"degree\":0,\"coeffs\":[-1.3985874474719757]}\n",
    "{\"inlier-noise\":6.329675616015294,\"outlier-noise\":1.6603426559941301,\"prob-outlier\":0.2850667830064594,\"outlier-designations\":[false,false,false,false,false,true,false,false,false,false],\"degree\":0,\"coeffs\":[0.2893373080219742]}"
   ]
  },
  {
   "cell_type": "code",
   "execution_count": null,
   "metadata": {},
   "outputs": [],
   "source": [
    "(define is-traces-quad (get-is-traces ys-quadr))\n",
    "(map #(clojure.core/println (json/write-str (serialize-curve-trace (nth is-traces-quad %)))) (range 10))"
   ]
  },
  {
   "cell_type": "raw",
   "metadata": {},
   "source": [
    "{\"inlier-noise\":1.5770470821715588,\"outlier-noise\":0.19640645772834675,\"prob-outlier\":0.02336277774011264,\"outlier-designations\":[false,false,false,false,false,false,false,false,false,false],\"degree\":2,\"coeffs\":[0.07620518799502853,0.27192354102060273,0.2544847324566704]}\n",
    "{\"inlier-noise\":1.7770986570722915,\"outlier-noise\":0.17702593395037386,\"prob-outlier\":0.03890364264353252,\"outlier-designations\":[false,false,false,false,false,false,false,false,false,false],\"degree\":2,\"coeffs\":[-0.1929576612602015,0.11622029759976635,0.21896035659379545]}\n",
    "{\"inlier-noise\":1.0409403274210045,\"outlier-noise\":1.4199784277099754,\"prob-outlier\":0.08885558275754102,\"outlier-designations\":[false,false,false,false,false,false,false,false,false,false],\"degree\":2,\"coeffs\":[-0.043252666721489905,0.3155770519535016,0.29446646490300316]}\n",
    "{\"inlier-noise\":1.8441492007921196,\"outlier-noise\":2.2269159704475716,\"prob-outlier\":0.033893569814495095,\"outlier-designations\":[false,false,false,true,false,false,false,false,false,false],\"degree\":2,\"coeffs\":[0.1618013605544861,0.11284372402932998,0.23334018655756408]}\n",
    "{\"inlier-noise\":2.658333709964433,\"outlier-noise\":0.9020931385673682,\"prob-outlier\":0.014071800882081265,\"outlier-designations\":[false,false,false,false,false,false,false,false,false,false],\"degree\":2,\"coeffs\":[0.1344196167121793,0.1034715374620226,0.31057120974657376]}\n",
    "{\"inlier-noise\":1.18309346993312,\"outlier-noise\":5.1379754053415105,\"prob-outlier\":0.02124600339610172,\"outlier-designations\":[false,false,false,false,false,false,false,false,false,false],\"degree\":2,\"coeffs\":[0.8463302606408691,0.24207461633636074,0.2631270129767408]}\n",
    "{\"inlier-noise\":1.8027812835628514,\"outlier-noise\":0.6113527903816398,\"prob-outlier\":0.003073978362274965,\"outlier-designations\":[false,false,false,false,false,false,false,false,false,false],\"degree\":2,\"coeffs\":[-0.4615514704098335,-0.013617258939551104,0.26200202045311244]}\n",
    "{\"inlier-noise\":1.382212881892258,\"outlier-noise\":3.676939545544927,\"prob-outlier\":0.01252129352875786,\"outlier-designations\":[false,false,false,false,false,false,false,false,false,false],\"degree\":2,\"coeffs\":[-0.24247197956946354,0.1821376084055264,0.28102008624688524]}\n",
    "{\"inlier-noise\":1.2221772169187735,\"outlier-noise\":1.8963203655017824,\"prob-outlier\":0.056521618603058266,\"outlier-designations\":[false,false,false,false,false,false,false,false,false,false],\"degree\":2,\"coeffs\":[0.35809158305170424,-0.1441347211803391,0.20408045682388315]}\n",
    "{\"inlier-noise\":1.4273505070009542,\"outlier-noise\":0.9632976521078445,\"prob-outlier\":0.11910002323416413,\"outlier-designations\":[false,false,false,false,false,false,false,false,false,false],\"degree\":2,\"coeffs\":[0.33951458416545693,0.3286293768001541,0.24290582831152496]}"
   ]
  },
  {
   "cell_type": "code",
   "execution_count": null,
   "metadata": {},
   "outputs": [],
   "source": [
    "(define is-traces-bump (get-is-traces ys-bump))\n",
    "(map #(clojure.core/println (json/write-str (serialize-curve-trace (nth is-traces-bump %)))) (range 10))"
   ]
  },
  {
   "cell_type": "raw",
   "metadata": {},
   "source": [
    "{\"inlier-noise\":4.896400328415132,\"outlier-noise\":1.3729627180561668,\"prob-outlier\":0.20938051985916817,\"outlier-designations\":[false,false,false,false,false,false,false,false,false,false],\"degree\":0,\"coeffs\":[0.18170899594650278]}\n",
    "{\"inlier-noise\":5.261315072961767,\"outlier-noise\":0.8364464650466379,\"prob-outlier\":0.01902160725850599,\"outlier-designations\":[false,false,false,false,false,false,false,false,false,false],\"degree\":0,\"coeffs\":[-0.08400272122905096]}\n",
    "{\"inlier-noise\":4.414418521940814,\"outlier-noise\":3.7927133818227707,\"prob-outlier\":0.0862871996822645,\"outlier-designations\":[false,false,false,false,false,false,false,false,false,false],\"degree\":1,\"coeffs\":[-1.1240029711425128,-0.29287755190489434]}\n",
    "{\"inlier-noise\":3.3369196022421037,\"outlier-noise\":1.4186238671422153,\"prob-outlier\":0.05210648411971064,\"outlier-designations\":[false,false,false,false,false,false,false,false,false,false],\"degree\":1,\"coeffs\":[-3.286663105629336,0.3072639190141064]}\n",
    "{\"inlier-noise\":5.723147915596702,\"outlier-noise\":0.833309134199272,\"prob-outlier\":0.0630311305592377,\"outlier-designations\":[false,false,false,false,false,false,false,false,false,false],\"degree\":0,\"coeffs\":[-0.6338365870166326]}\n",
    "{\"inlier-noise\":3.6974130416787965,\"outlier-noise\":2.314195477500819,\"prob-outlier\":0.038822668078874134,\"outlier-designations\":[false,false,false,false,false,false,false,false,false,false],\"degree\":0,\"coeffs\":[-1.3489157053958267]}\n",
    "{\"inlier-noise\":4.1388794230251325,\"outlier-noise\":1.5706347441266022,\"prob-outlier\":7.224710141837676E-4,\"outlier-designations\":[false,false,false,false,false,false,false,false,false,false],\"degree\":1,\"coeffs\":[-1.9011786269925302,-0.3120371490504696]}\n",
    "{\"inlier-noise\":5.922435232278974,\"outlier-noise\":0.9258877142160893,\"prob-outlier\":0.047111631046466096,\"outlier-designations\":[false,false,false,false,false,false,false,false,false,false],\"degree\":2,\"coeffs\":[-0.1334759245625091,-0.6067026326348669,-0.4658458819308759]}\n",
    "{\"inlier-noise\":3.850814319744413,\"outlier-noise\":0.8766524630453508,\"prob-outlier\":0.022733072175657676,\"outlier-designations\":[false,false,false,false,false,false,false,false,false,false],\"degree\":2,\"coeffs\":[-1.4376963007825947,-0.19461010706927698,-0.2148990550268955]}\n",
    "{\"inlier-noise\":5.817549483535617,\"outlier-noise\":1.3823738166211195,\"prob-outlier\":8.57477760971781E-4,\"outlier-designations\":[false,false,false,false,false,false,false,false,false,false],\"degree\":0,\"coeffs\":[-1.8600067750358364]}"
   ]
  },
  {
   "cell_type": "code",
   "execution_count": null,
   "metadata": {},
   "outputs": [],
   "source": [
    "ys-quadr"
   ]
  },
  {
   "cell_type": "code",
   "execution_count": null,
   "metadata": {},
   "outputs": [],
   "source": [
    "(clojure.core/println (json/write-str\n",
    "                          [ys-linear ys-linear-outlier ys-quadr ys-bump]))"
   ]
  },
  {
   "cell_type": "raw",
   "metadata": {},
   "source": [
    "[[{\"inlier-noise\":0.7285893967575137,\"outlier-noise\":0.3648463566233224,\"prob-outlier\":0.06827189146448642,\"outlier-designations\":[false,false,false,false,false,false,false,false,false,false],\"degree\":1,\"coeffs\":[0.1598462410362295,2.0112541869639964]},{\"inlier-noise\":0.6635426445559577,\"outlier-noise\":0.12749415127731634,\"prob-outlier\":3.36150611020436E-4,\"outlier-designations\":[false,false,false,false,false,false,false,false,false,false],\"degree\":1,\"coeffs\":[-0.5810337117770501,2.0021474107132775]},{\"inlier-noise\":0.9297229134445932,\"outlier-noise\":1.275574975309256,\"prob-outlier\":0.08099026920160479,\"outlier-designations\":[false,false,false,false,false,false,false,false,false,false],\"degree\":1,\"coeffs\":[0.6575182098162803,1.9749148235745144]},{\"inlier-noise\":0.6800911969221412,\"outlier-noise\":0.36203039581011187,\"prob-outlier\":0.14010051067848717,\"outlier-designations\":[false,false,false,false,false,false,false,false,false,false],\"degree\":1,\"coeffs\":[-0.471617043043263,2.093116903531357]},{\"inlier-noise\":0.4704816005432874,\"outlier-noise\":0.286429610644367,\"prob-outlier\":0.005585761006217882,\"outlier-designations\":[false,false,false,false,false,false,false,false,false,false],\"degree\":1,\"coeffs\":[-0.3275420855989098,1.8996406048480685]},{\"inlier-noise\":0.5044297240598045,\"outlier-noise\":0.6800380908540713,\"prob-outlier\":0.02882724570428108,\"outlier-designations\":[false,false,false,false,false,true,false,false,false,false],\"degree\":1,\"coeffs\":[0.5565441605727789,1.896832296216051]},{\"inlier-noise\":0.6212296169302446,\"outlier-noise\":0.0056916276877045525,\"prob-outlier\":0.043818003185092436,\"outlier-designations\":[false,false,false,false,false,false,false,false,false,false],\"degree\":1,\"coeffs\":[-0.17887282378369793,1.943055532431798]},{\"inlier-noise\":0.9693311978739017,\"outlier-noise\":1.8539165675311706,\"prob-outlier\":0.009108481773952515,\"outlier-designations\":[false,false,false,false,false,false,false,false,false,false],\"degree\":1,\"coeffs\":[-0.6580829545956557,1.9315707624002278]},{\"inlier-noise\":0.639025841622085,\"outlier-noise\":1.3404169679551867,\"prob-outlier\":0.02621058429480405,\"outlier-designations\":[false,false,false,false,false,false,false,false,false,false],\"degree\":1,\"coeffs\":[-0.08770137397289442,2.123332792263412]},{\"inlier-noise\":0.668738936206884,\"outlier-noise\":0.0155648572302002,\"prob-outlier\":0.04412106361363166,\"outlier-designations\":[false,false,false,false,false,false,false,false,false,false],\"degree\":1,\"coeffs\":[-0.32550676965431297,1.9037764276147149]}],[{\"inlier-noise\":8.116906172913007,\"outlier-noise\":0.4355364394465988,\"prob-outlier\":0.026548565512383715,\"outlier-designations\":[false,false,false,false,false,false,false,false,false,false],\"degree\":0,\"coeffs\":[0.5435612721292095]},{\"inlier-noise\":6.559920246112659,\"outlier-noise\":0.09974299210451472,\"prob-outlier\":0.03756172677611791,\"outlier-designations\":[false,false,false,false,false,false,false,false,false,false],\"degree\":0,\"coeffs\":[-0.26700021748914027]},{\"inlier-noise\":4.86827605127686,\"outlier-noise\":1.2554277306150932,\"prob-outlier\":0.02444851226772682,\"outlier-designations\":[false,false,false,false,false,false,false,false,false,false],\"degree\":0,\"coeffs\":[-0.22955957055958284]},{\"inlier-noise\":6.608028668099426,\"outlier-noise\":3.638204834846298,\"prob-outlier\":0.06024958960992721,\"outlier-designations\":[false,false,false,true,false,false,false,false,false,false],\"degree\":0,\"coeffs\":[-0.9260656018498298]},{\"inlier-noise\":2.5146271269845863,\"outlier-noise\":4.1063476446690315,\"prob-outlier\":0.2063937413026602,\"outlier-designations\":[false,true,false,false,false,true,false,true,true,false],\"degree\":1,\"coeffs\":[1.043653097098889,1.8896287216605985]},{\"inlier-noise\":5.653347113696798,\"outlier-noise\":1.4527727657645058,\"prob-outlier\":0.004621482619207584,\"outlier-designations\":[false,false,false,false,false,false,false,false,false,false],\"degree\":0,\"coeffs\":[1.2585540991244963]},{\"inlier-noise\":1.973418119275362,\"outlier-noise\":4.339948761490442,\"prob-outlier\":0.14443798641340277,\"outlier-designations\":[false,true,true,false,false,true,false,false,true,false],\"degree\":2,\"coeffs\":[-1.0942646557276765,1.3167960023234537,-0.037670954287774325]},{\"inlier-noise\":6.178828444818793,\"outlier-noise\":0.05337474864151378,\"prob-outlier\":0.06502992316095613,\"outlier-designations\":[false,false,false,false,false,false,false,false,false,false],\"degree\":0,\"coeffs\":[-1.4015578210661466]},{\"inlier-noise\":7.910660023758574,\"outlier-noise\":0.43770299635897775,\"prob-outlier\":0.026863256912480482,\"outlier-designations\":[false,false,false,false,false,false,false,false,false,false],\"degree\":0,\"coeffs\":[0.6301550377087055]},{\"inlier-noise\":6.238890620307854,\"outlier-noise\":0.7920808586226927,\"prob-outlier\":0.031098226472238366,\"outlier-designations\":[false,false,false,false,true,false,false,false,false,false],\"degree\":1,\"coeffs\":[-0.5011026058472325,-0.1120535920138259]}],[{\"inlier-noise\":2.356289029964927,\"outlier-noise\":1.91275095052645,\"prob-outlier\":0.004869745303707651,\"outlier-designations\":[false,false,false,false,false,false,false,false,false,false],\"degree\":2,\"coeffs\":[-1.6793477840880375,-0.16153831747386285,0.31299038468080703]},{\"inlier-noise\":1.969501365150108,\"outlier-noise\":0.47234208041869225,\"prob-outlier\":0.028621425496662467,\"outlier-designations\":[false,false,false,false,false,false,false,false,false,false],\"degree\":0,\"coeffs\":[1.821160105389177]},{\"inlier-noise\":1.2415869103605162,\"outlier-noise\":0.4992521780336224,\"prob-outlier\":0.001819289235788557,\"outlier-designations\":[false,false,false,false,false,false,false,false,false,false],\"degree\":2,\"coeffs\":[-1.1894500370507715,0.24595719242978586,0.32684971888825703]},{\"inlier-noise\":1.2537365269471654,\"outlier-noise\":4.285929001123313,\"prob-outlier\":0.009652975202468217,\"outlier-designations\":[false,false,false,false,false,false,false,false,false,false],\"degree\":2,\"coeffs\":[-0.00726783983259951,0.08160640855568337,0.2172586139418959]},{\"inlier-noise\":1.5510783248462536,\"outlier-noise\":1.5657657167208094,\"prob-outlier\":0.06711535818692882,\"outlier-designations\":[false,false,false,false,true,false,false,false,false,false],\"degree\":2,\"coeffs\":[0.6448658062224144,0.24893994618283843,0.2165220085073401]},{\"inlier-noise\":1.2406300014932625,\"outlier-noise\":3.826104190088087,\"prob-outlier\":0.017217690357782423,\"outlier-designations\":[false,false,false,false,false,false,false,false,false,false],\"degree\":2,\"coeffs\":[-0.06883251049358967,0.1627218734690991,0.2714434070062124]},{\"inlier-noise\":0.9872301081249922,\"outlier-noise\":3.0722300977899035,\"prob-outlier\":0.08424749734737902,\"outlier-designations\":[false,true,true,false,false,true,false,false,false,false],\"degree\":2,\"coeffs\":[0.5599055036782267,-0.10263146521352215,0.22475542539623933]},{\"inlier-noise\":1.5238104483185,\"outlier-noise\":2.626320104709404,\"prob-outlier\":0.029363249317266304,\"outlier-designations\":[false,false,false,false,false,true,false,false,false,false],\"degree\":2,\"coeffs\":[0.3764373812945513,0.28376437189360165,0.2666553853082682]},{\"inlier-noise\":1.2254154505150754,\"outlier-noise\":0.13806334749144172,\"prob-outlier\":0.009527110133626837,\"outlier-designations\":[false,false,false,false,false,false,false,false,false,false],\"degree\":2,\"coeffs\":[-0.06475873910511629,0.006268551281059568,0.253697973153308]},{\"inlier-noise\":1.6937123487957846,\"outlier-noise\":1.5016535064046213,\"prob-outlier\":0.019252413127274992,\"outlier-designations\":[false,false,false,false,false,false,false,false,false,false],\"degree\":2,\"coeffs\":[-0.24974774647322898,0.0401582064085601,0.28117036873073115]}],[{\"inlier-noise\":6.92966040365564,\"outlier-noise\":0.9342488168424438,\"prob-outlier\":0.01727863363554971,\"outlier-designations\":[false,false,false,false,false,false,false,false,false,false],\"degree\":1,\"coeffs\":[0.07539440409680435,0.18380983589495015]},{\"inlier-noise\":6.206712827916484,\"outlier-noise\":0.8116676131295442,\"prob-outlier\":0.020104496405173755,\"outlier-designations\":[false,false,false,false,false,false,false,false,false,false],\"degree\":0,\"coeffs\":[-1.4200121835817436]},{\"inlier-noise\":4.023596179879005,\"outlier-noise\":0.322397976989736,\"prob-outlier\":0.07380422039940071,\"outlier-designations\":[false,false,false,false,false,false,false,false,false,false],\"degree\":0,\"coeffs\":[-1.4254126987726472]},{\"inlier-noise\":4.879294928947432,\"outlier-noise\":0.037094184252345896,\"prob-outlier\":0.01300008092300975,\"outlier-designations\":[false,false,false,false,false,false,false,false,false,false],\"degree\":0,\"coeffs\":[-0.5675079692360824]},{\"inlier-noise\":5.878319300625388,\"outlier-noise\":0.8488518039315643,\"prob-outlier\":5.870843544866222E-4,\"outlier-designations\":[false,false,false,false,false,false,false,false,false,false],\"degree\":1,\"coeffs\":[-0.9325263749330317,0.3272072765721474]},{\"inlier-noise\":6.571726604570486,\"outlier-noise\":0.6651110279923422,\"prob-outlier\":0.03550270284418078,\"outlier-designations\":[false,false,false,false,false,false,false,false,false,false],\"degree\":1,\"coeffs\":[-0.09034952994495618,-0.4396071429822285]},{\"inlier-noise\":4.539838882673715,\"outlier-noise\":0.9679941933447727,\"prob-outlier\":0.0013792863672206224,\"outlier-designations\":[false,false,false,false,false,false,false,false,false,false],\"degree\":0,\"coeffs\":[-2.18242328265509]},{\"inlier-noise\":4.056414951497258,\"outlier-noise\":0.23433349354720726,\"prob-outlier\":0.047150475746810194,\"outlier-designations\":[false,false,false,false,false,false,false,false,false,false],\"degree\":0,\"coeffs\":[-1.010262035365892]},{\"inlier-noise\":5.391258002058299,\"outlier-noise\":0.6617332103577054,\"prob-outlier\":0.06548175630145858,\"outlier-designations\":[false,false,false,false,false,false,false,false,false,false],\"degree\":1,\"coeffs\":[-0.6170059821822079,-0.059568660797225496]},{\"inlier-noise\":4.315908515401191,\"outlier-noise\":2.812959146172353,\"prob-outlier\":0.2015480404524781,\"outlier-designations\":[true,true,false,false,false,false,false,false,false,false],\"degree\":0,\"coeffs\":[-1.1091654663584836]}]]"
   ]
  },
  {
   "cell_type": "code",
   "execution_count": null,
   "metadata": {},
   "outputs": [],
   "source": [
    "(json/write-str xs)"
   ]
  },
  {
   "cell_type": "code",
   "execution_count": null,
   "metadata": {},
   "outputs": [],
   "source": [
    "(clojure.core/println (json/write-str (map #(map serialize-curve-trace %) [is-traces-linear is-traces-lin-outlier is-traces-quad is-traces-bump])))"
   ]
  },
  {
   "cell_type": "raw",
   "metadata": {},
   "source": [
    "[[{\"inlier-noise\":0.7285893967575137,\"outlier-noise\":0.3648463566233224,\"prob-outlier\":0.06827189146448642,\"outlier-designations\":[false,false,false,false,false,false,false,false,false,false],\"degree\":1,\"coeffs\":[0.1598462410362295,2.0112541869639964]},{\"inlier-noise\":0.6635426445559577,\"outlier-noise\":0.12749415127731634,\"prob-outlier\":3.36150611020436E-4,\"outlier-designations\":[false,false,false,false,false,false,false,false,false,false],\"degree\":1,\"coeffs\":[-0.5810337117770501,2.0021474107132775]},{\"inlier-noise\":0.9297229134445932,\"outlier-noise\":1.275574975309256,\"prob-outlier\":0.08099026920160479,\"outlier-designations\":[false,false,false,false,false,false,false,false,false,false],\"degree\":1,\"coeffs\":[0.6575182098162803,1.9749148235745144]},{\"inlier-noise\":0.6800911969221412,\"outlier-noise\":0.36203039581011187,\"prob-outlier\":0.14010051067848717,\"outlier-designations\":[false,false,false,false,false,false,false,false,false,false],\"degree\":1,\"coeffs\":[-0.471617043043263,2.093116903531357]},{\"inlier-noise\":0.4704816005432874,\"outlier-noise\":0.286429610644367,\"prob-outlier\":0.005585761006217882,\"outlier-designations\":[false,false,false,false,false,false,false,false,false,false],\"degree\":1,\"coeffs\":[-0.3275420855989098,1.8996406048480685]},{\"inlier-noise\":0.5044297240598045,\"outlier-noise\":0.6800380908540713,\"prob-outlier\":0.02882724570428108,\"outlier-designations\":[false,false,false,false,false,true,false,false,false,false],\"degree\":1,\"coeffs\":[0.5565441605727789,1.896832296216051]},{\"inlier-noise\":0.6212296169302446,\"outlier-noise\":0.0056916276877045525,\"prob-outlier\":0.043818003185092436,\"outlier-designations\":[false,false,false,false,false,false,false,false,false,false],\"degree\":1,\"coeffs\":[-0.17887282378369793,1.943055532431798]},{\"inlier-noise\":0.9693311978739017,\"outlier-noise\":1.8539165675311706,\"prob-outlier\":0.009108481773952515,\"outlier-designations\":[false,false,false,false,false,false,false,false,false,false],\"degree\":1,\"coeffs\":[-0.6580829545956557,1.9315707624002278]},{\"inlier-noise\":0.639025841622085,\"outlier-noise\":1.3404169679551867,\"prob-outlier\":0.02621058429480405,\"outlier-designations\":[false,false,false,false,false,false,false,false,false,false],\"degree\":1,\"coeffs\":[-0.08770137397289442,2.123332792263412]},{\"inlier-noise\":0.668738936206884,\"outlier-noise\":0.0155648572302002,\"prob-outlier\":0.04412106361363166,\"outlier-designations\":[false,false,false,false,false,false,false,false,false,false],\"degree\":1,\"coeffs\":[-0.32550676965431297,1.9037764276147149]}],[{\"inlier-noise\":8.116906172913007,\"outlier-noise\":0.4355364394465988,\"prob-outlier\":0.026548565512383715,\"outlier-designations\":[false,false,false,false,false,false,false,false,false,false],\"degree\":0,\"coeffs\":[0.5435612721292095]},{\"inlier-noise\":6.559920246112659,\"outlier-noise\":0.09974299210451472,\"prob-outlier\":0.03756172677611791,\"outlier-designations\":[false,false,false,false,false,false,false,false,false,false],\"degree\":0,\"coeffs\":[-0.26700021748914027]},{\"inlier-noise\":4.86827605127686,\"outlier-noise\":1.2554277306150932,\"prob-outlier\":0.02444851226772682,\"outlier-designations\":[false,false,false,false,false,false,false,false,false,false],\"degree\":0,\"coeffs\":[-0.22955957055958284]},{\"inlier-noise\":6.608028668099426,\"outlier-noise\":3.638204834846298,\"prob-outlier\":0.06024958960992721,\"outlier-designations\":[false,false,false,true,false,false,false,false,false,false],\"degree\":0,\"coeffs\":[-0.9260656018498298]},{\"inlier-noise\":2.5146271269845863,\"outlier-noise\":4.1063476446690315,\"prob-outlier\":0.2063937413026602,\"outlier-designations\":[false,true,false,false,false,true,false,true,true,false],\"degree\":1,\"coeffs\":[1.043653097098889,1.8896287216605985]},{\"inlier-noise\":5.653347113696798,\"outlier-noise\":1.4527727657645058,\"prob-outlier\":0.004621482619207584,\"outlier-designations\":[false,false,false,false,false,false,false,false,false,false],\"degree\":0,\"coeffs\":[1.2585540991244963]},{\"inlier-noise\":1.973418119275362,\"outlier-noise\":4.339948761490442,\"prob-outlier\":0.14443798641340277,\"outlier-designations\":[false,true,true,false,false,true,false,false,true,false],\"degree\":2,\"coeffs\":[-1.0942646557276765,1.3167960023234537,-0.037670954287774325]},{\"inlier-noise\":6.178828444818793,\"outlier-noise\":0.05337474864151378,\"prob-outlier\":0.06502992316095613,\"outlier-designations\":[false,false,false,false,false,false,false,false,false,false],\"degree\":0,\"coeffs\":[-1.4015578210661466]},{\"inlier-noise\":7.910660023758574,\"outlier-noise\":0.43770299635897775,\"prob-outlier\":0.026863256912480482,\"outlier-designations\":[false,false,false,false,false,false,false,false,false,false],\"degree\":0,\"coeffs\":[0.6301550377087055]},{\"inlier-noise\":6.238890620307854,\"outlier-noise\":0.7920808586226927,\"prob-outlier\":0.031098226472238366,\"outlier-designations\":[false,false,false,false,true,false,false,false,false,false],\"degree\":1,\"coeffs\":[-0.5011026058472325,-0.1120535920138259]}],[{\"inlier-noise\":2.356289029964927,\"outlier-noise\":1.91275095052645,\"prob-outlier\":0.004869745303707651,\"outlier-designations\":[false,false,false,false,false,false,false,false,false,false],\"degree\":2,\"coeffs\":[-1.6793477840880375,-0.16153831747386285,0.31299038468080703]},{\"inlier-noise\":1.969501365150108,\"outlier-noise\":0.47234208041869225,\"prob-outlier\":0.028621425496662467,\"outlier-designations\":[false,false,false,false,false,false,false,false,false,false],\"degree\":0,\"coeffs\":[1.821160105389177]},{\"inlier-noise\":1.2415869103605162,\"outlier-noise\":0.4992521780336224,\"prob-outlier\":0.001819289235788557,\"outlier-designations\":[false,false,false,false,false,false,false,false,false,false],\"degree\":2,\"coeffs\":[-1.1894500370507715,0.24595719242978586,0.32684971888825703]},{\"inlier-noise\":1.2537365269471654,\"outlier-noise\":4.285929001123313,\"prob-outlier\":0.009652975202468217,\"outlier-designations\":[false,false,false,false,false,false,false,false,false,false],\"degree\":2,\"coeffs\":[-0.00726783983259951,0.08160640855568337,0.2172586139418959]},{\"inlier-noise\":1.5510783248462536,\"outlier-noise\":1.5657657167208094,\"prob-outlier\":0.06711535818692882,\"outlier-designations\":[false,false,false,false,true,false,false,false,false,false],\"degree\":2,\"coeffs\":[0.6448658062224144,0.24893994618283843,0.2165220085073401]},{\"inlier-noise\":1.2406300014932625,\"outlier-noise\":3.826104190088087,\"prob-outlier\":0.017217690357782423,\"outlier-designations\":[false,false,false,false,false,false,false,false,false,false],\"degree\":2,\"coeffs\":[-0.06883251049358967,0.1627218734690991,0.2714434070062124]},{\"inlier-noise\":0.9872301081249922,\"outlier-noise\":3.0722300977899035,\"prob-outlier\":0.08424749734737902,\"outlier-designations\":[false,true,true,false,false,true,false,false,false,false],\"degree\":2,\"coeffs\":[0.5599055036782267,-0.10263146521352215,0.22475542539623933]},{\"inlier-noise\":1.5238104483185,\"outlier-noise\":2.626320104709404,\"prob-outlier\":0.029363249317266304,\"outlier-designations\":[false,false,false,false,false,true,false,false,false,false],\"degree\":2,\"coeffs\":[0.3764373812945513,0.28376437189360165,0.2666553853082682]},{\"inlier-noise\":1.2254154505150754,\"outlier-noise\":0.13806334749144172,\"prob-outlier\":0.009527110133626837,\"outlier-designations\":[false,false,false,false,false,false,false,false,false,false],\"degree\":2,\"coeffs\":[-0.06475873910511629,0.006268551281059568,0.253697973153308]},{\"inlier-noise\":1.6937123487957846,\"outlier-noise\":1.5016535064046213,\"prob-outlier\":0.019252413127274992,\"outlier-designations\":[false,false,false,false,false,false,false,false,false,false],\"degree\":2,\"coeffs\":[-0.24974774647322898,0.0401582064085601,0.28117036873073115]}],[{\"inlier-noise\":6.92966040365564,\"outlier-noise\":0.9342488168424438,\"prob-outlier\":0.01727863363554971,\"outlier-designations\":[false,false,false,false,false,false,false,false,false,false],\"degree\":1,\"coeffs\":[0.07539440409680435,0.18380983589495015]},{\"inlier-noise\":6.206712827916484,\"outlier-noise\":0.8116676131295442,\"prob-outlier\":0.020104496405173755,\"outlier-designations\":[false,false,false,false,false,false,false,false,false,false],\"degree\":0,\"coeffs\":[-1.4200121835817436]},{\"inlier-noise\":4.023596179879005,\"outlier-noise\":0.322397976989736,\"prob-outlier\":0.07380422039940071,\"outlier-designations\":[false,false,false,false,false,false,false,false,false,false],\"degree\":0,\"coeffs\":[-1.4254126987726472]},{\"inlier-noise\":4.879294928947432,\"outlier-noise\":0.037094184252345896,\"prob-outlier\":0.01300008092300975,\"outlier-designations\":[false,false,false,false,false,false,false,false,false,false],\"degree\":0,\"coeffs\":[-0.5675079692360824]},{\"inlier-noise\":5.878319300625388,\"outlier-noise\":0.8488518039315643,\"prob-outlier\":5.870843544866222E-4,\"outlier-designations\":[false,false,false,false,false,false,false,false,false,false],\"degree\":1,\"coeffs\":[-0.9325263749330317,0.3272072765721474]},{\"inlier-noise\":6.571726604570486,\"outlier-noise\":0.6651110279923422,\"prob-outlier\":0.03550270284418078,\"outlier-designations\":[false,false,false,false,false,false,false,false,false,false],\"degree\":1,\"coeffs\":[-0.09034952994495618,-0.4396071429822285]},{\"inlier-noise\":4.539838882673715,\"outlier-noise\":0.9679941933447727,\"prob-outlier\":0.0013792863672206224,\"outlier-designations\":[false,false,false,false,false,false,false,false,false,false],\"degree\":0,\"coeffs\":[-2.18242328265509]},{\"inlier-noise\":4.056414951497258,\"outlier-noise\":0.23433349354720726,\"prob-outlier\":0.047150475746810194,\"outlier-designations\":[false,false,false,false,false,false,false,false,false,false],\"degree\":0,\"coeffs\":[-1.010262035365892]},{\"inlier-noise\":5.391258002058299,\"outlier-noise\":0.6617332103577054,\"prob-outlier\":0.06548175630145858,\"outlier-designations\":[false,false,false,false,false,false,false,false,false,false],\"degree\":1,\"coeffs\":[-0.6170059821822079,-0.059568660797225496]},{\"inlier-noise\":4.315908515401191,\"outlier-noise\":2.812959146172353,\"prob-outlier\":0.2015480404524781,\"outlier-designations\":[true,true,false,false,false,false,false,false,false,false],\"degree\":0,\"coeffs\":[-1.1091654663584836]}]]"
   ]
  },
  {
   "cell_type": "code",
   "execution_count": null,
   "metadata": {},
   "outputs": [],
   "source": [
    ";; Then we need to convert to JSON, and send to a visualizer. Or use Excel..."
   ]
  },
  {
   "cell_type": "code",
   "execution_count": null,
   "metadata": {},
   "outputs": [],
   "source": [
    "(define predicted-ys-linear (map (gen [tr] (map (func-from-tr tr) xs)) is-traces-linear))\n",
    "(clojure.core/print (clojure.string/join \"\\n\" (map str (nth predicted-ys-linear 7))))"
   ]
  },
  {
   "cell_type": "code",
   "execution_count": null,
   "metadata": {},
   "outputs": [],
   "source": [
    "(map #(trace-value % '(\"underlying-curve\" \"coeffs\" 2)) is-traces-linear)"
   ]
  },
  {
   "cell_type": "code",
   "execution_count": null,
   "metadata": {},
   "outputs": [],
   "source": []
  },
  {
   "cell_type": "code",
   "execution_count": null,
   "metadata": {},
   "outputs": [],
   "source": [
    ";; Need to save the traces.\n",
    "(define export-traces\n",
    "  (gen [traces]\n",
    "    (clojure.string/join \"\\n\"\n",
    "      )))"
   ]
  },
  {
   "cell_type": "code",
   "execution_count": null,
   "metadata": {},
   "outputs": [],
   "source": []
  },
  {
   "cell_type": "markdown",
   "metadata": {},
   "source": [
    "MCMC algorithm"
   ]
  },
  {
   "cell_type": "code",
   "execution_count": null,
   "metadata": {},
   "outputs": [],
   "source": [
    "(define resimulate-mh\n",
    "  (gen [model inputs tr addresses]\n",
    "    (define [current-choices other-choices] (partition-trace tr addresses))\n",
    "    (define [_ _ current-score] (infer :procedure model :inputs inputs :target-trace other-choices :intervention-trace current-choices))\n",
    "    (define [_ proposed new-score] (infer :procedure model :inputs inputs :target-trace other-choices))\n",
    "    (if (flip (exp (- new-score current-score)))\n",
    "        proposed\n",
    "        tr)))"
   ]
  },
  {
   "cell_type": "code",
   "execution_count": null,
   "metadata": {},
   "outputs": [],
   "source": [
    "(define initial-trace (nth (infer :procedure curve-model :inputs [xs] :target-trace (make-observation-trace ys-linear-outlier)) 1))\n",
    "(define all-addresses (addresses-of initial-trace))"
   ]
  },
  {
   "cell_type": "code",
   "execution_count": null,
   "metadata": {},
   "outputs": [],
   "source": [
    "(def address-contains? \n",
    "  (gen [addr elem]\n",
    "    (some #{elem} addr)))"
   ]
  },
  {
   "cell_type": "code",
   "execution_count": null,
   "metadata": {},
   "outputs": [],
   "source": [
    "(def resimulation-mh-move\n",
    "  (gen [model inputs tr addresses]\n",
    "    (let [[current-choices fixed-choices]\n",
    "          (partition-trace tr addresses)\n",
    "\n",
    "          ;; Get the log probability of the current trace\n",
    "          [_ _ old-p]\n",
    "          (infer-and-score :procedure model,\n",
    "                           :inputs inputs,\n",
    "                           :observation-trace tr)\n",
    "\n",
    "          ;; Propose a new trace, and get its score\n",
    "          [_ proposed new-p-over-forward-q]\n",
    "          (infer-and-score :procedure model,\n",
    "                           :inputs inputs,\n",
    "                           :observation-trace fixed-choices)\n",
    "\n",
    "          ;; Figure out what the reverse problem would look like\n",
    "          [_ reverse-move-starting-point]\n",
    "          (partition-trace proposed addresses)\n",
    "\n",
    "          ;; Compute a reverse score\n",
    "          [_ _ reverse-q]\n",
    "          (infer-and-score :procedure infer-and-score,\n",
    "                           :inputs [:procedure model,\n",
    "                                    :inputs inputs,\n",
    "                                    :observation-trace reverse-move-starting-point]\n",
    "                           :observation-trace current-choices)\n",
    "\n",
    "          log-ratio\n",
    "          (+ new-p-over-forward-q (- reverse-q old-p))]\n",
    "      (if (flip (exp log-ratio))\n",
    "        proposed\n",
    "        tr))))"
   ]
  },
  {
   "cell_type": "code",
   "execution_count": null,
   "metadata": {},
   "outputs": [],
   "source": [
    "(def gaussian-drift-move\n",
    "  (gen [model inputs tr addresses width]\n",
    "    (let [proposed-trace\n",
    "          (reduce \n",
    "            (gen [t addr]\n",
    "              (trace-set-value t addr (+ (trace-value t addr) (* width (gaussian 0 1)))))\n",
    "              tr addresses)\n",
    "          \n",
    "          [_ _ current-score]\n",
    "          (infer-and-score :procedure model, :inputs inputs, :observation-trace tr)\n",
    "          \n",
    "          [_ _ new-score]\n",
    "          (infer-and-score :procedure model, :inputs inputs, :observation-trace proposed-trace)]\n",
    "\n",
    "      (if (flip (exp (- new-score current-score)))\n",
    "        proposed-trace\n",
    "        tr))))"
   ]
  },
  {
   "cell_type": "code",
   "execution_count": null,
   "metadata": {},
   "outputs": [],
   "source": [
    "(def gibbs-move\n",
    "  (gen [model inputs tr addresses support]\n",
    "    (reduce\n",
    "      (gen [tr addr]\n",
    "        (let [relative-scores\n",
    "              (map (gen [choice] \n",
    "                     (nth (infer-and-score :procedure model, \n",
    "                                           :inputs inputs, \n",
    "                                           :observation-trace (trace-set-value tr addr choice)) \n",
    "                          2))\n",
    "                   support)]\n",
    "          (trace-set-value tr addr (nth support (log-categorical relative-scores)))))\n",
    "    tr addresses)))"
   ]
  },
  {
   "cell_type": "code",
   "execution_count": null,
   "metadata": {},
   "outputs": [],
   "source": [
    "(def curve-fitting-move\n",
    "  (gen [tr]\n",
    "    (let [resimulate-curve\n",
    "          (gen [tr]\n",
    "            (resimulation-mh-move \n",
    "               curve-model [xs] tr\n",
    "               (filter #(address-contains? % \"underlying-curve\") (addresses-of tr))))\n",
    "          \n",
    "          resimulate-noise-params\n",
    "          (gen [tr]\n",
    "            (resimulation-mh-move\n",
    "                curve-model [xs] tr\n",
    "                (filter #(address-contains? % \"noise-params\") (addresses-of tr))))\n",
    "\n",
    "          adjust-coeffs\n",
    "          (gen [tr]\n",
    "            (gaussian-drift-move \n",
    "                curve-model [xs] tr\n",
    "                (filter #(address-contains? % \"coeffs\") (addresses-of tr)) 0.1))\n",
    "          \n",
    "          adjust-outliers\n",
    "          (gen [tr]\n",
    "            (gibbs-move curve-model [xs] tr\n",
    "                (filter #(address-contains? % \"outlier?\") (addresses-of tr))\n",
    "                [true false]))]\n",
    "     (adjust-outliers (adjust-coeffs (adjust-outliers (adjust-coeffs (adjust-outliers (resimulate-noise-params (adjust-outliers (resimulate-curve tr)))))))))))"
   ]
  },
  {
   "cell_type": "code",
   "execution_count": null,
   "metadata": {},
   "outputs": [],
   "source": [
    "(define next-trace\n",
    "  (gen [trace]\n",
    "    (define resim-move\n",
    "     (gen [tr resim-addrs]\n",
    "       (define [current-choices other-choices] (partition-trace tr resim-addrs))\n",
    "       (define [_ _ current-score] (infer :procedure curve-model :inputs [xs] :target-trace other-choices :intervention-trace current-choices))\n",
    "       (pprint current-score)\n",
    "       (define [_ proposed new-score] (infer :procedure curve-model :inputs [xs] :target-trace other-choices))\n",
    "       (if (flip (exp (- new-score current-score))) (block (pprint [\"RESIM ACCEPTED\" new-score (trace-value proposed '(\"underlying-curve\" \"degree\"))]) (gibbs-outliers-sweep proposed)) tr)))\n",
    "    \n",
    "    (define resim-curve\n",
    "      (gen [tr] (resim-move tr (filter #(address-contains? % \"underlying-curve\") (addresses-of tr)))))\n",
    "    \n",
    "    (define resim-hypers\n",
    "      (gen [tr] (resim-move tr (filter #(address-contains? % \"noise-params\") (addresses-of tr)))))\n",
    "    \n",
    "    (define walk-coeffs-individually\n",
    "      (gen [tr] \n",
    "        (define [_ _ current-score] (infer :procedure curve-model :target-trace tr :inputs [xs]))\n",
    "        (define width 0.4)\n",
    "        (define [final-trace _]\n",
    "          (reduce\n",
    "            (gen [[tr scr] next-addr]\n",
    "              (define proposed-value (+ (trace-value tr next-addr) (* width (gaussian 0 1))))\n",
    "              (define proposed-trace (trace-set-value tr next-addr proposed-value))\n",
    "              (define [_ _ new-score] (infer :procedure curve-model :target-trace proposed-trace :inputs [xs]))\n",
    "              (if (flip (exp (- new-score scr)))\n",
    "                 [proposed-trace new-score]\n",
    "                 [tr scr]))\n",
    "              [tr current-score]\n",
    "              (filter #(address-contains? % \"coeffs\") (addresses-of tr))))\n",
    "         final-trace))\n",
    "       \n",
    "    (define walk-coeffs\n",
    "      (gen [tr]\n",
    "        (define [_ _ current-score] (infer :procedure curve-model :target-trace tr :inputs [xs]))\n",
    "        (define width 0.4)\n",
    "        (define proposed-trace\n",
    "          (reduce (gen [t addr] (trace-set-value t addr (+ (trace-value t addr) (* width (gaussian 0 1)))))\n",
    "                  tr \n",
    "                  (filter #(address-contains? % \"coeffs\") (addresses-of tr))))\n",
    "        (define [_ _ new-score] (infer :procedure curve-model :target-trace proposed-trace :inputs [xs]))\n",
    "        (if (< (log (uniform 0 1)) (- new-score current-score))\n",
    "            (block (pprint [\"ACCEPTED WALK\" new-score]) (gibbs-outliers-sweep proposed-trace))\n",
    "            tr)))\n",
    "       \n",
    "    (define gibbs-outliers-sweep\n",
    "      (gen [tr]\n",
    "        (define [_ _ current-score] (infer :procedure curve-model :target-trace tr :inputs [xs]))\n",
    "        (define [final-trace final-score]\n",
    "          (reduce\n",
    "            (gen [[tr scr] next-addr]\n",
    "             (define current-value (trace-value tr next-addr))\n",
    "             (define proposed-trace (trace-set-value tr next-addr (not current-value)))\n",
    "             (define [_ _ new-score] (infer :procedure curve-model :target-trace proposed-trace :inputs [xs]))\n",
    "             (if (= 0 (log-categorical [scr new-score]))\n",
    "                [tr scr]\n",
    "                [proposed-trace new-score]))\n",
    "            [tr current-score]\n",
    "            (filter #(address-contains? % \"is-outlier\") (addresses-of tr))))\n",
    "         (pprint [\"SCORE AFTER GIBBS:\" final-score])\n",
    "         final-trace))\n",
    "     (define walk-and-gibbs walk-coeffs) ;(gen [tr] (gibbs-outliers-sweep (walk-coeffs tr))))\n",
    "   (walk-and-gibbs (walk-and-gibbs (resim-hypers (resim-curve trace))))))"
   ]
  },
  {
   "cell_type": "code",
   "execution_count": null,
   "metadata": {},
   "outputs": [],
   "source": [
    "(let [resimulate-curve\n",
    "          (gen [tr]\n",
    "            (resimulation-mh-move \n",
    "               curve-model [xs] tr\n",
    "               (filter #(address-contains? % \"underlying-curve\") (addresses-of tr))))\n",
    "          \n",
    "          resimulate-noise-params\n",
    "          (gen [tr]\n",
    "            (resimulation-mh-move\n",
    "                curve-model [xs] tr\n",
    "                (filter #(address-contains? % \"noise-params\") (addresses-of tr))))\n",
    "\n",
    "          adjust-coeffs\n",
    "          (gen [tr]\n",
    "            (gaussian-drift-move \n",
    "                curve-model [xs] tr\n",
    "                (filter #(address-contains? % \"coeffs\") (addresses-of tr)) 0.1))\n",
    "          \n",
    "          adjust-outliers\n",
    "          (gen [tr]\n",
    "            (gibbs-move curve-model [xs]\n",
    "                (filter #(address-contains? % \"outlier?\") (addresses-of tr)) tr\n",
    "                [true false]))\n",
    "         \n",
    "         \n",
    "         [_ initial-trace _] (infer-and-score :procedure curve-model :inputs [xs] :observation-trace (make-observation-trace ys))]\n",
    "    (adjust-outliers initial-trace))"
   ]
  },
  {
   "cell_type": "code",
   "execution_count": null,
   "metadata": {},
   "outputs": [],
   "source": [
    "(def do-inference\n",
    "  (gen [ys n]\n",
    "    (let [[_ initial-trace _] (infer-and-score :procedure curve-model :inputs [xs] :observation-trace (make-observation-trace ys))]\n",
    "      (reduce\n",
    "        (gen [tr _] (curve-fitting-move tr))\n",
    "        initial-trace\n",
    "        (range n)))))"
   ]
  },
  {
   "cell_type": "code",
   "execution_count": null,
   "metadata": {},
   "outputs": [],
   "source": [
    "(replicate 5 #(nth (infer-and-score :procedure curve-model :inputs [xs] :observation-trace (do-inference ys-bump 200)) 2))"
   ]
  },
  {
   "cell_type": "code",
   "execution_count": null,
   "metadata": {},
   "outputs": [],
   "source": [
    "(replicate 3 (gen [] (clojure.core/println (json/write-str (serialize-curve-trace (do-inference ys-linear-outlier 200))))))"
   ]
  },
  {
   "cell_type": "code",
   "execution_count": null,
   "metadata": {},
   "outputs": [],
   "source": [
    "(replicate 3 (gen [] (clojure.core/println (json/write-str (serialize-curve-trace (do-inference ys-quadr 500))))))"
   ]
  },
  {
   "cell_type": "code",
   "execution_count": null,
   "metadata": {},
   "outputs": [],
   "source": [
    "(define [_ initial-trace _] (infer :procedure curve-model :inputs [xs] :target-trace (make-observation-trace ys-linear)))"
   ]
  },
  {
   "cell_type": "code",
   "execution_count": null,
   "metadata": {},
   "outputs": [],
   "source": [
    "(do-inference ys-linear-outlier 4)"
   ]
  },
  {
   "cell_type": "code",
   "execution_count": null,
   "metadata": {},
   "outputs": [],
   "source": [
    "(define mcmc-samples-linear-outlier (replicate 10 (gen [] (do-inference ys-linear-outlier 500))))\n",
    "(map #(clojure.core/println (json/write-str (serialize-curve-trace (nth mcmc-samples-linear-outlier %)))) (range 10))"
   ]
  },
  {
   "cell_type": "code",
   "execution_count": null,
   "metadata": {},
   "outputs": [],
   "source": [
    "(define mcmc-samples-linear (replicate 10 (gen [] (do-inference ys-linear 500))))\n",
    "(map #(clojure.core/println (json/write-str (serialize-curve-trace (nth mcmc-samples-linear %)))) (range 10))"
   ]
  },
  {
   "cell_type": "code",
   "execution_count": null,
   "metadata": {},
   "outputs": [],
   "source": [
    "(define mcmc-samples-quadr (replicate 10 (gen [] (do-inference ys-quadr 500))))\n",
    "(map #(clojure.core/println (json/write-str (serialize-curve-trace (nth mcmc-samples-quadr %)))) (range 10))"
   ]
  },
  {
   "cell_type": "code",
   "execution_count": null,
   "metadata": {},
   "outputs": [],
   "source": [
    "(clojure.core/println (json/write-str(map #(serialize-curve-trace (nth mcmc-samples-quadr %)) (range 10))))"
   ]
  },
  {
   "cell_type": "code",
   "execution_count": null,
   "metadata": {},
   "outputs": [],
   "source": [
    "(clojure.core/println (json/write-str(map #(serialize-curve-trace (nth mcmc-samples-bump %)) (range 10))))"
   ]
  },
  {
   "cell_type": "code",
   "execution_count": null,
   "metadata": {},
   "outputs": [],
   "source": [
    "(define mcmc-samples-bump (replicate 10 (gen [] (do-inference ys-bump 500))))\n",
    "(map #(clojure.core/println (json/write-str (serialize-curve-trace (nth mcmc-samples-bump %)))) (range 10))"
   ]
  },
  {
   "cell_type": "code",
   "execution_count": null,
   "metadata": {},
   "outputs": [],
   "source": [
    "(apply + (replicate 10 (gen [] (gamma 2 1))))"
   ]
  },
  {
   "cell_type": "code",
   "execution_count": null,
   "metadata": {},
   "outputs": [],
   "source": [
    "(define importance-sampling-results\n",
    "'(({:inlier-noise 0.3203025826287354, :outlier-noise 2.1827745078053087, :prob-outlier 0.10346420471651874, :outlier-designations (false false false false false false false false false false), :degree 1, :coeffs (0.25942556137914496 2.080606069842025)} {:inlier-noise 0.15104982569100756, :outlier-noise 0.7195928851383143, :prob-outlier 0.02744888382649424, :outlier-designations (false false false false false false false false false false), :degree 1, :coeffs (-0.04140218418946105 1.9978719710057904)} {:inlier-noise 0.2934489489359625, :outlier-noise 0.9977242271034761, :prob-outlier 8.696072799625476E-4, :outlier-designations (false false false false false false false false false false), :degree 1, :coeffs (-0.15748523674217008 1.8834863244894027)} {:inlier-noise 0.30115351907696647, :outlier-noise 3.6001745466642445, :prob-outlier 0.1657168472360676, :outlier-designations (false false false false false false false false false false), :degree 1, :coeffs (0.18134993768205582 2.0288427396849062)} {:inlier-noise 0.28712174500409615, :outlier-noise 1.383204786902018, :prob-outlier 0.1936035309265709, :outlier-designations (false false false false false true true false false false), :degree 1, :coeffs (-0.24802180725626324 1.988229672095906)} {:inlier-noise 0.8046156063227546, :outlier-noise 0.634261238065272, :prob-outlier 0.01293693904046922, :outlier-designations (false false false false false false false false false false), :degree 1, :coeffs (0.42952043743688717 1.969625108103368)} {:inlier-noise 0.6048009521213341, :outlier-noise 0.7041344683269578, :prob-outlier 0.021726011562084313, :outlier-designations (false false false false false false false false false false), :degree 1, :coeffs (-0.07689009832033919 2.077300305142018)} {:inlier-noise 0.5132178283388329, :outlier-noise 1.1469921224563022, :prob-outlier 0.05008700283523149, :outlier-designations (false false false false true false false false false false), :degree 1, :coeffs (0.36091272465001745 1.8893606624263402)} {:inlier-noise 0.6589377728434536, :outlier-noise 1.7709760153044656, :prob-outlier 0.05793699675883146, :outlier-designations (false false false false false false false false false false), :degree 1, :coeffs (-0.2454549097821225 2.006830312196887)} {:inlier-noise 0.8019957699607595, :outlier-noise 4.279985544922286, :prob-outlier 0.01850101222457079, :outlier-designations (false false false false false false false false false false), :degree 1, :coeffs (-0.018658869084247107 1.932774515279486)}) ({:inlier-noise 5.906454652069317, :outlier-noise 0.712205456480841, :prob-outlier 0.0158255059329635, :outlier-designations (false false false false false false false false false false), :degree 1, :coeffs (1.2854194922045061 0.04602980510977737)} {:inlier-noise 1.0730945256168711, :outlier-noise 6.142978237545821, :prob-outlier 0.1633109164854183, :outlier-designations (false true false false true false false false true false), :degree 1, :coeffs (-0.9821520656268071 1.6690942654117684)} {:inlier-noise 4.662485550994007, :outlier-noise 4.716606052526102, :prob-outlier 0.13008712528227306, :outlier-designations (false false false false false false true false false false), :degree 1, :coeffs (1.6142440541481597 0.7027001588527285)} {:inlier-noise 7.277446544726212, :outlier-noise 0.5575372907547516, :prob-outlier 0.020418461183009273, :outlier-designations (false false false false false false false false false false), :degree 0, :coeffs (-0.05642961014310482)} {:inlier-noise 7.408414026353044, :outlier-noise 3.5430037966681214, :prob-outlier 0.043187626459242456, :outlier-designations (false false false false false false false false false false), :degree 0, :coeffs (1.3333514434464429)} {:inlier-noise 0.31219850191517085, :outlier-noise 3.338906072744802, :prob-outlier 0.09968095018392398, :outlier-designations (false true false false false false false false true false), :degree 1, :coeffs (0.08942101868203549 1.9611536774361777)} {:inlier-noise 6.055315521893033, :outlier-noise 3.431815548211557, :prob-outlier 0.14145747939271902, :outlier-designations (false false false false false true true false false false), :degree 0, :coeffs (0.011841535792496053)} {:inlier-noise 5.1285379585511555, :outlier-noise 1.0970094501898071, :prob-outlier 0.14738578320715623, :outlier-designations (false false false false false false false false false false), :degree 1, :coeffs (-0.5059636910140588 0.7310564370817128)} {:inlier-noise 6.335800326083608, :outlier-noise 1.5353779846738818, :prob-outlier 0.08383226996151028, :outlier-designations (false false false false false true false false false false), :degree 0, :coeffs (-1.3985874474719757)} {:inlier-noise 6.329675616015294, :outlier-noise 1.6603426559941301, :prob-outlier 0.2850667830064594, :outlier-designations (false false false false false true false false false false), :degree 0, :coeffs (0.2893373080219742)}) ({:inlier-noise 1.5770470821715588, :outlier-noise 0.19640645772834675, :prob-outlier 0.02336277774011264, :outlier-designations (false false false false false false false false false false), :degree 2, :coeffs (0.07620518799502853 0.27192354102060273 0.2544847324566704)} {:inlier-noise 1.7770986570722915, :outlier-noise 0.17702593395037386, :prob-outlier 0.03890364264353252, :outlier-designations (false false false false false false false false false false), :degree 2, :coeffs (-0.1929576612602015 0.11622029759976635 0.21896035659379545)} {:inlier-noise 1.0409403274210045, :outlier-noise 1.4199784277099754, :prob-outlier 0.08885558275754102, :outlier-designations (false false false false false false false false false false), :degree 2, :coeffs (-0.043252666721489905 0.3155770519535016 0.29446646490300316)} {:inlier-noise 1.8441492007921196, :outlier-noise 2.2269159704475716, :prob-outlier 0.033893569814495095, :outlier-designations (false false false true false false false false false false), :degree 2, :coeffs (0.1618013605544861 0.11284372402932998 0.23334018655756408)} {:inlier-noise 2.658333709964433, :outlier-noise 0.9020931385673682, :prob-outlier 0.014071800882081265, :outlier-designations (false false false false false false false false false false), :degree 2, :coeffs (0.1344196167121793 0.1034715374620226 0.31057120974657376)} {:inlier-noise 1.18309346993312, :outlier-noise 5.1379754053415105, :prob-outlier 0.02124600339610172, :outlier-designations (false false false false false false false false false false), :degree 2, :coeffs (0.8463302606408691 0.24207461633636074 0.2631270129767408)} {:inlier-noise 1.8027812835628514, :outlier-noise 0.6113527903816398, :prob-outlier 0.003073978362274965, :outlier-designations (false false false false false false false false false false), :degree 2, :coeffs (-0.4615514704098335 -0.013617258939551104 0.26200202045311244)} {:inlier-noise 1.382212881892258, :outlier-noise 3.676939545544927, :prob-outlier 0.01252129352875786, :outlier-designations (false false false false false false false false false false), :degree 2, :coeffs (-0.24247197956946354 0.1821376084055264 0.28102008624688524)} {:inlier-noise 1.2221772169187735, :outlier-noise 1.8963203655017824, :prob-outlier 0.056521618603058266, :outlier-designations (false false false false false false false false false false), :degree 2, :coeffs (0.35809158305170424 -0.1441347211803391 0.20408045682388315)} {:inlier-noise 1.4273505070009542, :outlier-noise 0.9632976521078445, :prob-outlier 0.11910002323416413, :outlier-designations (false false false false false false false false false false), :degree 2, :coeffs (0.33951458416545693 0.3286293768001541 0.24290582831152496)}) ({:inlier-noise 4.896400328415132, :outlier-noise 1.3729627180561668, :prob-outlier 0.20938051985916817, :outlier-designations (false false false false false false false false false false), :degree 0, :coeffs (0.18170899594650278)} {:inlier-noise 5.261315072961767, :outlier-noise 0.8364464650466379, :prob-outlier 0.01902160725850599, :outlier-designations (false false false false false false false false false false), :degree 0, :coeffs (-0.08400272122905096)} {:inlier-noise 4.414418521940814, :outlier-noise 3.7927133818227707, :prob-outlier 0.0862871996822645, :outlier-designations (false false false false false false false false false false), :degree 1, :coeffs (-1.1240029711425128 -0.29287755190489434)} {:inlier-noise 3.3369196022421037, :outlier-noise 1.4186238671422153, :prob-outlier 0.05210648411971064, :outlier-designations (false false false false false false false false false false), :degree 1, :coeffs (-3.286663105629336 0.3072639190141064)} {:inlier-noise 5.723147915596702, :outlier-noise 0.833309134199272, :prob-outlier 0.0630311305592377, :outlier-designations (false false false false false false false false false false), :degree 0, :coeffs (-0.6338365870166326)} {:inlier-noise 3.6974130416787965, :outlier-noise 2.314195477500819, :prob-outlier 0.038822668078874134, :outlier-designations (false false false false false false false false false false), :degree 0, :coeffs (-1.3489157053958267)} {:inlier-noise 4.1388794230251325, :outlier-noise 1.5706347441266022, :prob-outlier 7.224710141837676E-4, :outlier-designations (false false false false false false false false false false), :degree 1, :coeffs (-1.9011786269925302 -0.3120371490504696)} {:inlier-noise 5.922435232278974, :outlier-noise 0.9258877142160893, :prob-outlier 0.047111631046466096, :outlier-designations (false false false false false false false false false false), :degree 2, :coeffs (-0.1334759245625091 -0.6067026326348669 -0.4658458819308759)} {:inlier-noise 3.850814319744413, :outlier-noise 0.8766524630453508, :prob-outlier 0.022733072175657676, :outlier-designations (false false false false false false false false false false), :degree 2, :coeffs (-1.4376963007825947 -0.19461010706927698 -0.2148990550268955)} {:inlier-noise 5.817549483535617, :outlier-noise 1.3823738166211195, :prob-outlier 8.57477760971781E-4, :outlier-designations (false false false false false false false false false false), :degree 0, :coeffs (-1.8600067750358364)})))"
   ]
  },
  {
   "cell_type": "raw",
   "metadata": {},
   "source": [
    "; importance-sampling-results\n",
    "(({:inlier-noise 0.3203025826287354, :outlier-noise 2.1827745078053087, :prob-outlier 0.10346420471651874, :outlier-designations (false false false false false false false false false false), :degree 1, :coeffs (0.25942556137914496 2.080606069842025)} {:inlier-noise 0.15104982569100756, :outlier-noise 0.7195928851383143, :prob-outlier 0.02744888382649424, :outlier-designations (false false false false false false false false false false), :degree 1, :coeffs (-0.04140218418946105 1.9978719710057904)} {:inlier-noise 0.2934489489359625, :outlier-noise 0.9977242271034761, :prob-outlier 8.696072799625476E-4, :outlier-designations (false false false false false false false false false false), :degree 1, :coeffs (-0.15748523674217008 1.8834863244894027)} {:inlier-noise 0.30115351907696647, :outlier-noise 3.6001745466642445, :prob-outlier 0.1657168472360676, :outlier-designations (false false false false false false false false false false), :degree 1, :coeffs (0.18134993768205582 2.0288427396849062)} {:inlier-noise 0.28712174500409615, :outlier-noise 1.383204786902018, :prob-outlier 0.1936035309265709, :outlier-designations (false false false false false true true false false false), :degree 1, :coeffs (-0.24802180725626324 1.988229672095906)} {:inlier-noise 0.8046156063227546, :outlier-noise 0.634261238065272, :prob-outlier 0.01293693904046922, :outlier-designations (false false false false false false false false false false), :degree 1, :coeffs (0.42952043743688717 1.969625108103368)} {:inlier-noise 0.6048009521213341, :outlier-noise 0.7041344683269578, :prob-outlier 0.021726011562084313, :outlier-designations (false false false false false false false false false false), :degree 1, :coeffs (-0.07689009832033919 2.077300305142018)} {:inlier-noise 0.5132178283388329, :outlier-noise 1.1469921224563022, :prob-outlier 0.05008700283523149, :outlier-designations (false false false false true false false false false false), :degree 1, :coeffs (0.36091272465001745 1.8893606624263402)} {:inlier-noise 0.6589377728434536, :outlier-noise 1.7709760153044656, :prob-outlier 0.05793699675883146, :outlier-designations (false false false false false false false false false false), :degree 1, :coeffs (-0.2454549097821225 2.006830312196887)} {:inlier-noise 0.8019957699607595, :outlier-noise 4.279985544922286, :prob-outlier 0.01850101222457079, :outlier-designations (false false false false false false false false false false), :degree 1, :coeffs (-0.018658869084247107 1.932774515279486)}) ({:inlier-noise 5.906454652069317, :outlier-noise 0.712205456480841, :prob-outlier 0.0158255059329635, :outlier-designations (false false false false false false false false false false), :degree 1, :coeffs (1.2854194922045061 0.04602980510977737)} {:inlier-noise 1.0730945256168711, :outlier-noise 6.142978237545821, :prob-outlier 0.1633109164854183, :outlier-designations (false true false false true false false false true false), :degree 1, :coeffs (-0.9821520656268071 1.6690942654117684)} {:inlier-noise 4.662485550994007, :outlier-noise 4.716606052526102, :prob-outlier 0.13008712528227306, :outlier-designations (false false false false false false true false false false), :degree 1, :coeffs (1.6142440541481597 0.7027001588527285)} {:inlier-noise 7.277446544726212, :outlier-noise 0.5575372907547516, :prob-outlier 0.020418461183009273, :outlier-designations (false false false false false false false false false false), :degree 0, :coeffs (-0.05642961014310482)} {:inlier-noise 7.408414026353044, :outlier-noise 3.5430037966681214, :prob-outlier 0.043187626459242456, :outlier-designations (false false false false false false false false false false), :degree 0, :coeffs (1.3333514434464429)} {:inlier-noise 0.31219850191517085, :outlier-noise 3.338906072744802, :prob-outlier 0.09968095018392398, :outlier-designations (false true false false false false false false true false), :degree 1, :coeffs (0.08942101868203549 1.9611536774361777)} {:inlier-noise 6.055315521893033, :outlier-noise 3.431815548211557, :prob-outlier 0.14145747939271902, :outlier-designations (false false false false false true true false false false), :degree 0, :coeffs (0.011841535792496053)} {:inlier-noise 5.1285379585511555, :outlier-noise 1.0970094501898071, :prob-outlier 0.14738578320715623, :outlier-designations (false false false false false false false false false false), :degree 1, :coeffs (-0.5059636910140588 0.7310564370817128)} {:inlier-noise 6.335800326083608, :outlier-noise 1.5353779846738818, :prob-outlier 0.08383226996151028, :outlier-designations (false false false false false true false false false false), :degree 0, :coeffs (-1.3985874474719757)} {:inlier-noise 6.329675616015294, :outlier-noise 1.6603426559941301, :prob-outlier 0.2850667830064594, :outlier-designations (false false false false false true false false false false), :degree 0, :coeffs (0.2893373080219742)}) ({:inlier-noise 1.5770470821715588, :outlier-noise 0.19640645772834675, :prob-outlier 0.02336277774011264, :outlier-designations (false false false false false false false false false false), :degree 2, :coeffs (0.07620518799502853 0.27192354102060273 0.2544847324566704)} {:inlier-noise 1.7770986570722915, :outlier-noise 0.17702593395037386, :prob-outlier 0.03890364264353252, :outlier-designations (false false false false false false false false false false), :degree 2, :coeffs (-0.1929576612602015 0.11622029759976635 0.21896035659379545)} {:inlier-noise 1.0409403274210045, :outlier-noise 1.4199784277099754, :prob-outlier 0.08885558275754102, :outlier-designations (false false false false false false false false false false), :degree 2, :coeffs (-0.043252666721489905 0.3155770519535016 0.29446646490300316)} {:inlier-noise 1.8441492007921196, :outlier-noise 2.2269159704475716, :prob-outlier 0.033893569814495095, :outlier-designations (false false false true false false false false false false), :degree 2, :coeffs (0.1618013605544861 0.11284372402932998 0.23334018655756408)} {:inlier-noise 2.658333709964433, :outlier-noise 0.9020931385673682, :prob-outlier 0.014071800882081265, :outlier-designations (false false false false false false false false false false), :degree 2, :coeffs (0.1344196167121793 0.1034715374620226 0.31057120974657376)} {:inlier-noise 1.18309346993312, :outlier-noise 5.1379754053415105, :prob-outlier 0.02124600339610172, :outlier-designations (false false false false false false false false false false), :degree 2, :coeffs (0.8463302606408691 0.24207461633636074 0.2631270129767408)} {:inlier-noise 1.8027812835628514, :outlier-noise 0.6113527903816398, :prob-outlier 0.003073978362274965, :outlier-designations (false false false false false false false false false false), :degree 2, :coeffs (-0.4615514704098335 -0.013617258939551104 0.26200202045311244)} {:inlier-noise 1.382212881892258, :outlier-noise 3.676939545544927, :prob-outlier 0.01252129352875786, :outlier-designations (false false false false false false false false false false), :degree 2, :coeffs (-0.24247197956946354 0.1821376084055264 0.28102008624688524)} {:inlier-noise 1.2221772169187735, :outlier-noise 1.8963203655017824, :prob-outlier 0.056521618603058266, :outlier-designations (false false false false false false false false false false), :degree 2, :coeffs (0.35809158305170424 -0.1441347211803391 0.20408045682388315)} {:inlier-noise 1.4273505070009542, :outlier-noise 0.9632976521078445, :prob-outlier 0.11910002323416413, :outlier-designations (false false false false false false false false false false), :degree 2, :coeffs (0.33951458416545693 0.3286293768001541 0.24290582831152496)}) ({:inlier-noise 4.896400328415132, :outlier-noise 1.3729627180561668, :prob-outlier 0.20938051985916817, :outlier-designations (false false false false false false false false false false), :degree 0, :coeffs (0.18170899594650278)} {:inlier-noise 5.261315072961767, :outlier-noise 0.8364464650466379, :prob-outlier 0.01902160725850599, :outlier-designations (false false false false false false false false false false), :degree 0, :coeffs (-0.08400272122905096)} {:inlier-noise 4.414418521940814, :outlier-noise 3.7927133818227707, :prob-outlier 0.0862871996822645, :outlier-designations (false false false false false false false false false false), :degree 1, :coeffs (-1.1240029711425128 -0.29287755190489434)} {:inlier-noise 3.3369196022421037, :outlier-noise 1.4186238671422153, :prob-outlier 0.05210648411971064, :outlier-designations (false false false false false false false false false false), :degree 1, :coeffs (-3.286663105629336 0.3072639190141064)} {:inlier-noise 5.723147915596702, :outlier-noise 0.833309134199272, :prob-outlier 0.0630311305592377, :outlier-designations (false false false false false false false false false false), :degree 0, :coeffs (-0.6338365870166326)} {:inlier-noise 3.6974130416787965, :outlier-noise 2.314195477500819, :prob-outlier 0.038822668078874134, :outlier-designations (false false false false false false false false false false), :degree 0, :coeffs (-1.3489157053958267)} {:inlier-noise 4.1388794230251325, :outlier-noise 1.5706347441266022, :prob-outlier 7.224710141837676E-4, :outlier-designations (false false false false false false false false false false), :degree 1, :coeffs (-1.9011786269925302 -0.3120371490504696)} {:inlier-noise 5.922435232278974, :outlier-noise 0.9258877142160893, :prob-outlier 0.047111631046466096, :outlier-designations (false false false false false false false false false false), :degree 2, :coeffs (-0.1334759245625091 -0.6067026326348669 -0.4658458819308759)} {:inlier-noise 3.850814319744413, :outlier-noise 0.8766524630453508, :prob-outlier 0.022733072175657676, :outlier-designations (false false false false false false false false false false), :degree 2, :coeffs (-1.4376963007825947 -0.19461010706927698 -0.2148990550268955)} {:inlier-noise 5.817549483535617, :outlier-noise 1.3823738166211195, :prob-outlier 8.57477760971781E-4, :outlier-designations (false false false false false false false false false false), :degree 0, :coeffs (-1.8600067750358364)}))"
   ]
  },
  {
   "cell_type": "code",
   "execution_count": null,
   "metadata": {},
   "outputs": [],
   "source": [
    "(define mcmc-results '(({:inlier-noise 0.013709773427963446, :outlier-noise 0.3338742920353115, :prob-outlier 0.008169187361124597, :outlier-designations (false false false false false false false false false false), :degree 2, :coeffs (0.00844442912323969 2.0021147942411335 -7.789214645188821E-4)} {:inlier-noise 0.004472938492709234, :outlier-noise 0.2845577455385088, :prob-outlier 0.17044019775894736, :outlier-designations (false false false false false false false false false false), :degree 1, :coeffs (0.0017776681286905708 1.9997148354002485)} {:inlier-noise 0.004749865723390128, :outlier-noise 1.8796268703038255, :prob-outlier 0.003795485058423198, :outlier-designations (false false false false false false false false false false), :degree 1, :coeffs (9.530771714335341E-4 2.0005547489320414)} {:inlier-noise 0.0164677897400492, :outlier-noise 1.1194308915473872, :prob-outlier 0.004211249069291045, :outlier-designations (false false false false false false false false false false), :degree 1, :coeffs (0.00847262050454236 2.0011726947802657)} {:inlier-noise 0.0017644274053868663, :outlier-noise 3.5615605231547773, :prob-outlier 0.03537277836134778, :outlier-designations (false false false false false false false false false false), :degree 1, :coeffs (6.696118587613156E-4 2.0002183339475765)} {:inlier-noise 0.005254043376993837, :outlier-noise 0.2728986948677942, :prob-outlier 0.01692446013570481, :outlier-designations (false false false false false false false false false false), :degree 2, :coeffs (0.0029764644462073357 1.9981682751941396 -1.7317023601081392E-4)} {:inlier-noise 0.005562855506508254, :outlier-noise 1.205800492207462, :prob-outlier 0.15546511423674725, :outlier-designations (false false false false false false false false false false), :degree 2, :coeffs (0.003997990385612481 1.9997755298696522 -3.0825320440697136E-4)} {:inlier-noise 0.013416504680463463, :outlier-noise 1.3552420553308764, :prob-outlier 0.052523537197219805, :outlier-designations (false false false false false false false false false false), :degree 1, :coeffs (0.005766521634235007 1.9998504904342222)} {:inlier-noise 0.0014993023002445357, :outlier-noise 1.3688588910891337, :prob-outlier 0.11141653325197365, :outlier-designations (false false false false false false false false false false), :degree 1, :coeffs (-4.497168771025418E-5 2.0001512468922624)} {:inlier-noise 0.005576758936314168, :outlier-noise 0.6542061806789493, :prob-outlier 0.015542798274123082, :outlier-designations (false false false false false false false false false false), :degree 1, :coeffs (-6.114940400871794E-4 2.0014116527083674)}) ({:inlier-noise 0.018194996479197527, :outlier-noise 6.858966154342858, :prob-outlier 0.09608776041165257, :outlier-designations (false true false false false false false false true false), :degree 1, :coeffs (0.0067164982659762285 1.9975638197153718)} {:inlier-noise 6.055204136193853, :outlier-noise 3.657466504650155, :prob-outlier 0.0576288540723382, :outlier-designations (false false false true false false false false false false), :degree 0, :coeffs (-0.7737357947237932)} {:inlier-noise 0.0872231188867097, :outlier-noise 7.315966130380839, :prob-outlier 0.4264614196621326, :outlier-designations (false true false false false false false false true false), :degree 1, :coeffs (-0.025722051816238826 1.9964679580998057)} {:inlier-noise 7.463412449452533, :outlier-noise 3.885493210441845, :prob-outlier 0.03370989639828226, :outlier-designations (false false false false false false false false false false), :degree 1, :coeffs (-1.5681355605943925 0.10995468549561896)} {:inlier-noise 1.662694697810827, :outlier-noise 5.689134711572143, :prob-outlier 0.1783435646024315, :outlier-designations (true false true false false false false false true false), :degree 3, :coeffs (-0.16425549947469542 1.8624861312309267 0.6563753516963801 -0.14804573880074828)} {:inlier-noise 7.280560452365689, :outlier-noise 0.5512941130656074, :prob-outlier 0.08830940852831703, :outlier-designations (false false false false false false false false false false), :degree 0, :coeffs (1.2516929812932611)} {:inlier-noise 0.14232363391198252, :outlier-noise 7.030185487458045, :prob-outlier 0.09416902656197268, :outlier-designations (false true false false false false false false true false), :degree 1, :coeffs (-0.02665715388494181 1.9795319120462644)} {:inlier-noise 3.3974714638611117, :outlier-noise 3.580941185076756, :prob-outlier 0.17377825012842485, :outlier-designations (true false false false false false false false false true), :degree 3, :coeffs (-1.006665753939872 1.4938335720961768 0.12178372298365621 -0.26160000890019036)} {:inlier-noise 0.06229805073709528, :outlier-noise 6.616975686080237, :prob-outlier 0.35799221732398023, :outlier-designations (false true false false false false false false true false), :degree 1, :coeffs (-0.028171878835608163 2.0088534637094626)} {:inlier-noise 5.438683719567188, :outlier-noise 2.53453139225407, :prob-outlier 0.11519594111080578, :outlier-designations (false false false false false false false false false false), :degree 0, :coeffs (0.13611419079678438)}) ({:inlier-noise 0.0461955835310787, :outlier-noise 1.721532372749385, :prob-outlier 0.1638044336174317, :outlier-designations (false false false false true false false false false false), :degree 2, :coeffs (-0.9876401968845321 0.19796732511866752 0.2996484349759008)} {:inlier-noise 0.014649983590320262, :outlier-noise 1.9545270154050631, :prob-outlier 0.06948351564411037, :outlier-designations (false false false false true false false false false false), :degree 2, :coeffs (-1.0002413046249965 0.20268963503509219 0.29941280684882554)} {:inlier-noise 0.02831524269239194, :outlier-noise 1.7406723981824506, :prob-outlier 0.05628920872707843, :outlier-designations (false false false false true false false false false false), :degree 2, :coeffs (-0.9487206076262601 0.1979762972997453 0.29809759624450916)} {:inlier-noise 0.06356847829536352, :outlier-noise 2.820276795921456, :prob-outlier 0.20340945684125522, :outlier-designations (false false false false true false false false false false), :degree 2, :coeffs (-1.0419330943159248 0.20030418233247047 0.3036865834889395)} {:inlier-noise 0.008953805322384599, :outlier-noise 3.487778644935057, :prob-outlier 0.049634614066853544, :outlier-designations (false false false false true false false false false false), :degree 2, :coeffs (-1.0042955251351091 0.20045256727803826 0.3001754902576207)} {:inlier-noise 0.05915005747347897, :outlier-noise 3.5420748777477065, :prob-outlier 0.13208922934999212, :outlier-designations (false false false false true false false false false false), :degree 2, :coeffs (-0.9866262180233557 0.20525904407849851 0.29954848342635204)} {:inlier-noise 0.01566985421075981, :outlier-noise 1.6178788000498385, :prob-outlier 0.07971268992838043, :outlier-designations (false false false false true false false false false false), :degree 2, :coeffs (-0.9871488832253534 0.20139054232712617 0.29869336889187664)} {:inlier-noise 0.020629682702384706, :outlier-noise 1.6975880673161996, :prob-outlier 0.09427322277552797, :outlier-designations (false false false false true false false false false false), :degree 2, :coeffs (-0.9710048436410446 0.19953667466883718 0.29841451332289876)} {:inlier-noise 0.009157211222417317, :outlier-noise 2.273905181949468, :prob-outlier 0.09611707326883401, :outlier-designations (false false false false true false false false false false), :degree 2, :coeffs (-1.0053831495835663 0.20048189606140937 0.30031816282075363)} {:inlier-noise 0.2870710759898136, :outlier-noise 2.143441905723575, :prob-outlier 0.14364830537091533, :outlier-designations (false false false false true false false false false false), :degree 3, :coeffs (-0.8316499960662787 0.0453993098036289 0.27844757498934425 0.005533500649518993)}) ({:inlier-noise 0.898795720530503, :outlier-noise 5.4553741344640425, :prob-outlier 0.23695877304039203, :outlier-designations (false false false false true true true false true true), :degree 2, :coeffs (-1.7119896520371125 2.4073402702201037 0.4242612213838156)} {:inlier-noise 6.053408445329012, :outlier-noise 3.4540620327028235, :prob-outlier 0.0629733028349605, :outlier-designations (false false false false false false false false false false), :degree 1, :coeffs (0.3359941714723739 0.13745951497264858)} {:inlier-noise 4.971156231609132, :outlier-noise 0.28076658761126994, :prob-outlier 0.09198859699943884, :outlier-designations (false false false false false false false false false false), :degree 1, :coeffs (-2.2893874314527025 -0.10439481763286107)} {:inlier-noise 4.771158793492894, :outlier-noise 1.8781128899920898, :prob-outlier 0.0061443896575312795, :outlier-designations (false false false false false false false false false false), :degree 0, :coeffs (-2.0318943043913062)} {:inlier-noise 5.088823251025101, :outlier-noise 0.7941416239504905, :prob-outlier 0.051731704284792235, :outlier-designations (false false false false false false false false false false), :degree 0, :coeffs (-0.9454639015543744)} {:inlier-noise 2.4997744645618805, :outlier-noise 3.4890303034435486, :prob-outlier 0.13458186084051615, :outlier-designations (false false false false false false false true false false), :degree 0, :coeffs (-2.9286102105676273)} {:inlier-noise 2.5526862759176194, :outlier-noise 3.8615195018820274, :prob-outlier 0.16828051782332853, :outlier-designations (false false false false false false false true false false), :degree 2, :coeffs (-3.0004048284587004 -0.06027410255069754 -0.13372398181843487)} {:inlier-noise 4.820612174306468, :outlier-noise 1.5617176538265083, :prob-outlier 0.05914039816753991, :outlier-designations (false false false false false false false false false false), :degree 1, :coeffs (-0.8689889767033437 0.28007669615649117)} {:inlier-noise 1.953617483084775, :outlier-noise 4.071684836127407, :prob-outlier 0.03799824177242905, :outlier-designations (false false false false false false false true false false), :degree 0, :coeffs (-3.4337079622146836)} {:inlier-noise 3.0580137332519497, :outlier-noise 4.644741496348044, :prob-outlier 0.24111132757184406, :outlier-designations (false false false true true false false true true false), :degree 2, :coeffs (-1.9075451686702118 0.09546403750947681 -0.10461116256083526)})))"
   ]
  },
  {
   "cell_type": "raw",
   "metadata": {},
   "source": [
    "(({:inlier-noise 0.013709773427963446, :outlier-noise 0.3338742920353115, :prob-outlier 0.008169187361124597, :outlier-designations (false false false false false false false false false false), :degree 2, :coeffs (0.00844442912323969 2.0021147942411335 -7.789214645188821E-4)} {:inlier-noise 0.004472938492709234, :outlier-noise 0.2845577455385088, :prob-outlier 0.17044019775894736, :outlier-designations (false false false false false false false false false false), :degree 1, :coeffs (0.0017776681286905708 1.9997148354002485)} {:inlier-noise 0.004749865723390128, :outlier-noise 1.8796268703038255, :prob-outlier 0.003795485058423198, :outlier-designations (false false false false false false false false false false), :degree 1, :coeffs (9.530771714335341E-4 2.0005547489320414)} {:inlier-noise 0.0164677897400492, :outlier-noise 1.1194308915473872, :prob-outlier 0.004211249069291045, :outlier-designations (false false false false false false false false false false), :degree 1, :coeffs (0.00847262050454236 2.0011726947802657)} {:inlier-noise 0.0017644274053868663, :outlier-noise 3.5615605231547773, :prob-outlier 0.03537277836134778, :outlier-designations (false false false false false false false false false false), :degree 1, :coeffs (6.696118587613156E-4 2.0002183339475765)} {:inlier-noise 0.005254043376993837, :outlier-noise 0.2728986948677942, :prob-outlier 0.01692446013570481, :outlier-designations (false false false false false false false false false false), :degree 2, :coeffs (0.0029764644462073357 1.9981682751941396 -1.7317023601081392E-4)} {:inlier-noise 0.005562855506508254, :outlier-noise 1.205800492207462, :prob-outlier 0.15546511423674725, :outlier-designations (false false false false false false false false false false), :degree 2, :coeffs (0.003997990385612481 1.9997755298696522 -3.0825320440697136E-4)} {:inlier-noise 0.013416504680463463, :outlier-noise 1.3552420553308764, :prob-outlier 0.052523537197219805, :outlier-designations (false false false false false false false false false false), :degree 1, :coeffs (0.005766521634235007 1.9998504904342222)} {:inlier-noise 0.0014993023002445357, :outlier-noise 1.3688588910891337, :prob-outlier 0.11141653325197365, :outlier-designations (false false false false false false false false false false), :degree 1, :coeffs (-4.497168771025418E-5 2.0001512468922624)} {:inlier-noise 0.005576758936314168, :outlier-noise 0.6542061806789493, :prob-outlier 0.015542798274123082, :outlier-designations (false false false false false false false false false false), :degree 1, :coeffs (-6.114940400871794E-4 2.0014116527083674)}) ({:inlier-noise 0.018194996479197527, :outlier-noise 6.858966154342858, :prob-outlier 0.09608776041165257, :outlier-designations (false true false false false false false false true false), :degree 1, :coeffs (0.0067164982659762285 1.9975638197153718)} {:inlier-noise 6.055204136193853, :outlier-noise 3.657466504650155, :prob-outlier 0.0576288540723382, :outlier-designations (false false false true false false false false false false), :degree 0, :coeffs (-0.7737357947237932)} {:inlier-noise 0.0872231188867097, :outlier-noise 7.315966130380839, :prob-outlier 0.4264614196621326, :outlier-designations (false true false false false false false false true false), :degree 1, :coeffs (-0.025722051816238826 1.9964679580998057)} {:inlier-noise 7.463412449452533, :outlier-noise 3.885493210441845, :prob-outlier 0.03370989639828226, :outlier-designations (false false false false false false false false false false), :degree 1, :coeffs (-1.5681355605943925 0.10995468549561896)} {:inlier-noise 1.662694697810827, :outlier-noise 5.689134711572143, :prob-outlier 0.1783435646024315, :outlier-designations (true false true false false false false false true false), :degree 3, :coeffs (-0.16425549947469542 1.8624861312309267 0.6563753516963801 -0.14804573880074828)} {:inlier-noise 7.280560452365689, :outlier-noise 0.5512941130656074, :prob-outlier 0.08830940852831703, :outlier-designations (false false false false false false false false false false), :degree 0, :coeffs (1.2516929812932611)} {:inlier-noise 0.14232363391198252, :outlier-noise 7.030185487458045, :prob-outlier 0.09416902656197268, :outlier-designations (false true false false false false false false true false), :degree 1, :coeffs (-0.02665715388494181 1.9795319120462644)} {:inlier-noise 3.3974714638611117, :outlier-noise 3.580941185076756, :prob-outlier 0.17377825012842485, :outlier-designations (true false false false false false false false false true), :degree 3, :coeffs (-1.006665753939872 1.4938335720961768 0.12178372298365621 -0.26160000890019036)} {:inlier-noise 0.06229805073709528, :outlier-noise 6.616975686080237, :prob-outlier 0.35799221732398023, :outlier-designations (false true false false false false false false true false), :degree 1, :coeffs (-0.028171878835608163 2.0088534637094626)} {:inlier-noise 5.438683719567188, :outlier-noise 2.53453139225407, :prob-outlier 0.11519594111080578, :outlier-designations (false false false false false false false false false false), :degree 0, :coeffs (0.13611419079678438)}) ({:inlier-noise 0.0461955835310787, :outlier-noise 1.721532372749385, :prob-outlier 0.1638044336174317, :outlier-designations (false false false false true false false false false false), :degree 2, :coeffs (-0.9876401968845321 0.19796732511866752 0.2996484349759008)} {:inlier-noise 0.014649983590320262, :outlier-noise 1.9545270154050631, :prob-outlier 0.06948351564411037, :outlier-designations (false false false false true false false false false false), :degree 2, :coeffs (-1.0002413046249965 0.20268963503509219 0.29941280684882554)} {:inlier-noise 0.02831524269239194, :outlier-noise 1.7406723981824506, :prob-outlier 0.05628920872707843, :outlier-designations (false false false false true false false false false false), :degree 2, :coeffs (-0.9487206076262601 0.1979762972997453 0.29809759624450916)} {:inlier-noise 0.06356847829536352, :outlier-noise 2.820276795921456, :prob-outlier 0.20340945684125522, :outlier-designations (false false false false true false false false false false), :degree 2, :coeffs (-1.0419330943159248 0.20030418233247047 0.3036865834889395)} {:inlier-noise 0.008953805322384599, :outlier-noise 3.487778644935057, :prob-outlier 0.049634614066853544, :outlier-designations (false false false false true false false false false false), :degree 2, :coeffs (-1.0042955251351091 0.20045256727803826 0.3001754902576207)} {:inlier-noise 0.05915005747347897, :outlier-noise 3.5420748777477065, :prob-outlier 0.13208922934999212, :outlier-designations (false false false false true false false false false false), :degree 2, :coeffs (-0.9866262180233557 0.20525904407849851 0.29954848342635204)} {:inlier-noise 0.01566985421075981, :outlier-noise 1.6178788000498385, :prob-outlier 0.07971268992838043, :outlier-designations (false false false false true false false false false false), :degree 2, :coeffs (-0.9871488832253534 0.20139054232712617 0.29869336889187664)} {:inlier-noise 0.020629682702384706, :outlier-noise 1.6975880673161996, :prob-outlier 0.09427322277552797, :outlier-designations (false false false false true false false false false false), :degree 2, :coeffs (-0.9710048436410446 0.19953667466883718 0.29841451332289876)} {:inlier-noise 0.009157211222417317, :outlier-noise 2.273905181949468, :prob-outlier 0.09611707326883401, :outlier-designations (false false false false true false false false false false), :degree 2, :coeffs (-1.0053831495835663 0.20048189606140937 0.30031816282075363)} {:inlier-noise 0.2870710759898136, :outlier-noise 2.143441905723575, :prob-outlier 0.14364830537091533, :outlier-designations (false false false false true false false false false false), :degree 3, :coeffs (-0.8316499960662787 0.0453993098036289 0.27844757498934425 0.005533500649518993)}) ({:inlier-noise 0.898795720530503, :outlier-noise 5.4553741344640425, :prob-outlier 0.23695877304039203, :outlier-designations (false false false false true true true false true true), :degree 2, :coeffs (-1.7119896520371125 2.4073402702201037 0.4242612213838156)} {:inlier-noise 6.053408445329012, :outlier-noise 3.4540620327028235, :prob-outlier 0.0629733028349605, :outlier-designations (false false false false false false false false false false), :degree 1, :coeffs (0.3359941714723739 0.13745951497264858)} {:inlier-noise 4.971156231609132, :outlier-noise 0.28076658761126994, :prob-outlier 0.09198859699943884, :outlier-designations (false false false false false false false false false false), :degree 1, :coeffs (-2.2893874314527025 -0.10439481763286107)} {:inlier-noise 4.771158793492894, :outlier-noise 1.8781128899920898, :prob-outlier 0.0061443896575312795, :outlier-designations (false false false false false false false false false false), :degree 0, :coeffs (-2.0318943043913062)} {:inlier-noise 5.088823251025101, :outlier-noise 0.7941416239504905, :prob-outlier 0.051731704284792235, :outlier-designations (false false false false false false false false false false), :degree 0, :coeffs (-0.9454639015543744)} {:inlier-noise 2.4997744645618805, :outlier-noise 3.4890303034435486, :prob-outlier 0.13458186084051615, :outlier-designations (false false false false false false false true false false), :degree 0, :coeffs (-2.9286102105676273)} {:inlier-noise 2.5526862759176194, :outlier-noise 3.8615195018820274, :prob-outlier 0.16828051782332853, :outlier-designations (false false false false false false false true false false), :degree 2, :coeffs (-3.0004048284587004 -0.06027410255069754 -0.13372398181843487)} {:inlier-noise 4.820612174306468, :outlier-noise 1.5617176538265083, :prob-outlier 0.05914039816753991, :outlier-designations (false false false false false false false false false false), :degree 1, :coeffs (-0.8689889767033437 0.28007669615649117)} {:inlier-noise 1.953617483084775, :outlier-noise 4.071684836127407, :prob-outlier 0.03799824177242905, :outlier-designations (false false false false false false false true false false), :degree 0, :coeffs (-3.4337079622146836)} {:inlier-noise 3.0580137332519497, :outlier-noise 4.644741496348044, :prob-outlier 0.24111132757184406, :outlier-designations (false false false true true false false true true false), :degree 2, :coeffs (-1.9075451686702118 0.09546403750947681 -0.10461116256083526)}))"
   ]
  },
  {
   "cell_type": "code",
   "execution_count": null,
   "metadata": {},
   "outputs": [],
   "source": [
    "mcmc-results"
   ]
  },
  {
   "cell_type": "code",
   "execution_count": null,
   "metadata": {},
   "outputs": [],
   "source": [
    "(clojure.core/println (json/write-str (map #(map serialize-curve-trace %) [mcmc-samples-linear-outlier])))"
   ]
  },
  {
   "cell_type": "code",
   "execution_count": null,
   "metadata": {},
   "outputs": [],
   "source": [
    "(clojure.core/println (json/write-str (map #(map serialize-curve-trace %) [mcmc-samples-linear-outlier])))"
   ]
  },
  {
   "cell_type": "code",
   "execution_count": null,
   "metadata": {},
   "outputs": [],
   "source": [
    "(clojure.core/println (json/write-str (map #(map serialize-curve-trace %) [is-traces-linear mcmc-samples-linear-outlier is-traces-quad is-traces-bump])))"
   ]
  },
  {
   "cell_type": "code",
   "execution_count": null,
   "metadata": {},
   "outputs": [],
   "source": []
  },
  {
   "cell_type": "code",
   "execution_count": null,
   "metadata": {},
   "outputs": [],
   "source": [
    "; from before\n",
    "(clojure.core/println (json/write-str importance-sampling-results))"
   ]
  },
  {
   "cell_type": "code",
   "execution_count": null,
   "metadata": {},
   "outputs": [],
   "source": []
  },
  {
   "cell_type": "code",
   "execution_count": null,
   "metadata": {},
   "outputs": [],
   "source": [
    "; after lin-outliers\n",
    "(clojure.core/println (json/write-str (map #(map serialize-curve-trace %) [is-traces-linear is-traces-lin-outlier is-traces-quad is-traces-bump])))"
   ]
  },
  {
   "cell_type": "code",
   "execution_count": null,
   "metadata": {},
   "outputs": [],
   "source": [
    "; after lin-outliers\n",
    "(clojure.core/println (json/write-str (map #(map serialize-curve-trace %) [is-traces-linear mcmc-samples-linear-outlier is-traces-quad is-traces-bump])))"
   ]
  },
  {
   "cell_type": "code",
   "execution_count": null,
   "metadata": {},
   "outputs": [],
   "source": [
    "; after quadr\n",
    "(clojure.core/println (json/write-str (map #(map serialize-curve-trace %) [is-traces-linear mcmc-samples-linear-outlier is-traces-quad is-traces-bump])))"
   ]
  },
  {
   "cell_type": "code",
   "execution_count": null,
   "metadata": {},
   "outputs": [],
   "source": [
    "; after bump\n",
    "(clojure.core/println (json/write-str (map #(map serialize-curve-trace %) [is-traces-linear mcmc-samples-linear-outlier is-traces-quad is-traces-bump])))"
   ]
  },
  {
   "cell_type": "code",
   "execution_count": null,
   "metadata": {},
   "outputs": [],
   "source": [
    "; after all\n",
    "(clojure.core/println (json/write-str (map #(map serialize-curve-trace %) [mcmc-samples-linear mcmc-samples-linear-outlier mcmc-samples-quadr mcmc-samples-bump])))"
   ]
  },
  {
   "cell_type": "code",
   "execution_count": null,
   "metadata": {},
   "outputs": [],
   "source": [
    "(clojure.core/println (json/write-str (map #(map serialize-curve-trace %) [mcmc-samples-linear mcmc-samples-linear-outlier mcmc-samples-quadr mcmc-samples-bump])))"
   ]
  },
  {
   "cell_type": "raw",
   "metadata": {},
   "source": [
    "[[{\"inlier-noise\":0.010197105340386365,\"outlier-noise\":4.142880068793949,\"prob-outlier\":0.13596613079887462,\"outlier-designations\":[false,false,false,false,false,false,false,false,false,false],\"degree\":1,\"coeffs\":[-0.005079624403207431,2.0004934129914216]},{\"inlier-noise\":0.021834182594597705,\"outlier-noise\":12.198000360301439,\"prob-outlier\":0.054360378346622315,\"outlier-designations\":[false,false,false,false,false,false,false,false,false,false],\"degree\":1,\"coeffs\":[0.025311034626876887,2.0008564257941894]},{\"inlier-noise\":0.0643767352077578,\"outlier-noise\":11.356354030256911,\"prob-outlier\":0.06220582369052091,\"outlier-designations\":[false,false,false,false,false,false,false,false,false,false],\"degree\":1,\"coeffs\":[0.04246815615866904,1.993196027714258]},{\"inlier-noise\":0.006800564885112691,\"outlier-noise\":10.642626763918537,\"prob-outlier\":0.0482429003450712,\"outlier-designations\":[false,false,false,false,false,false,false,false,false,false],\"degree\":1,\"coeffs\":[0.00376646494451649,1.9985835452269995]},{\"inlier-noise\":0.15909563620327613,\"outlier-noise\":5.466412616019239,\"prob-outlier\":0.06691669552202703,\"outlier-designations\":[false,false,false,false,false,false,false,false,false,false],\"degree\":2,\"coeffs\":[0.10392797910869489,2.0178381276016375,0.006778717280658366]},{\"inlier-noise\":0.034486407843595614,\"outlier-noise\":12.340550785007707,\"prob-outlier\":0.038521483070641335,\"outlier-designations\":[false,false,false,false,false,false,false,false,false,false],\"degree\":1,\"coeffs\":[-0.0018334436467102866,1.9924924501443144]},{\"inlier-noise\":0.07902227076110542,\"outlier-noise\":4.9948761013549605,\"prob-outlier\":0.08156803694368839,\"outlier-designations\":[false,false,false,false,false,false,false,false,false,false],\"degree\":1,\"coeffs\":[-0.008433022850314015,2.01632139574563]},{\"inlier-noise\":0.08833715701731369,\"outlier-noise\":8.702800539571639,\"prob-outlier\":0.039609699692709055,\"outlier-designations\":[false,false,false,false,false,false,false,false,false,false],\"degree\":1,\"coeffs\":[0.05626566493541975,1.9959293859981067]},{\"inlier-noise\":0.09277308707911157,\"outlier-noise\":7.491786595449593,\"prob-outlier\":0.14284276239883628,\"outlier-designations\":[false,false,false,false,false,false,false,false,false,false],\"degree\":1,\"coeffs\":[0.03889395826847117,2.012487037786305]},{\"inlier-noise\":0.04548180540266826,\"outlier-noise\":12.234085033499193,\"prob-outlier\":0.11783759615954828,\"outlier-designations\":[false,false,false,false,false,false,false,false,false,false],\"degree\":1,\"coeffs\":[-0.04265973025016637,1.9955756901118658]}],[{\"inlier-noise\":0.09377766785865613,\"outlier-noise\":11.290502975144888,\"prob-outlier\":0.09885732834088853,\"outlier-designations\":[false,true,false,false,false,false,false,false,true,false],\"degree\":2,\"coeffs\":[-0.009047900708675838,1.9740855956496681,-0.003929163121928675]},{\"inlier-noise\":0.08047801947363285,\"outlier-noise\":6.509646853551142,\"prob-outlier\":0.14735412662369646,\"outlier-designations\":[false,true,false,false,false,false,false,false,true,false],\"degree\":1,\"coeffs\":[-0.042502699250170424,1.9989994750630666]},{\"inlier-noise\":0.04329629162927152,\"outlier-noise\":8.700459602473133,\"prob-outlier\":0.0958188816687103,\"outlier-designations\":[false,true,false,false,false,false,false,false,true,false],\"degree\":1,\"coeffs\":[-0.01843363055119994,1.986264351240534]},{\"inlier-noise\":0.020818529756356285,\"outlier-noise\":8.41503569150598,\"prob-outlier\":0.07892156745002855,\"outlier-designations\":[false,true,false,false,false,false,false,false,true,false],\"degree\":1,\"coeffs\":[0.016931442504387936,2.000677234482089]},{\"inlier-noise\":0.012191243578786565,\"outlier-noise\":7.563401177239862,\"prob-outlier\":0.07439651899368453,\"outlier-designations\":[false,true,false,false,false,false,false,false,true,false],\"degree\":1,\"coeffs\":[0.007523845552759444,1.9967047314713002]},{\"inlier-noise\":0.01876889024434435,\"outlier-noise\":10.195540207284873,\"prob-outlier\":0.11596146673618196,\"outlier-designations\":[false,true,false,false,false,false,false,false,true,false],\"degree\":1,\"coeffs\":[-0.021982630239338267,1.9974004438986117]},{\"inlier-noise\":0.055981893719145526,\"outlier-noise\":8.083290523043777,\"prob-outlier\":0.08388236754502998,\"outlier-designations\":[false,true,false,false,false,false,false,false,true,false],\"degree\":1,\"coeffs\":[-0.0377317946671934,2.0104307587309305]},{\"inlier-noise\":0.10611116073019478,\"outlier-noise\":14.065157566527304,\"prob-outlier\":0.15940571127588,\"outlier-designations\":[false,true,false,false,false,false,false,false,true,false],\"degree\":1,\"coeffs\":[0.0829296541703648,1.9933658503542107]},{\"inlier-noise\":0.06960202360280399,\"outlier-noise\":8.562335231855736,\"prob-outlier\":0.08611671226969819,\"outlier-designations\":[false,true,false,false,false,false,false,false,true,false],\"degree\":1,\"coeffs\":[-0.020899672822692603,1.9902591203804336]},{\"inlier-noise\":0.01215801604696215,\"outlier-noise\":11.049591381984015,\"prob-outlier\":0.10200392176794329,\"outlier-designations\":[false,true,false,false,false,false,false,false,true,false],\"degree\":1,\"coeffs\":[-0.01441805323148105,1.9981126512531964]}],[{\"inlier-noise\":1.304952004576469,\"outlier-noise\":8.367044130496362,\"prob-outlier\":0.1254289277002256,\"outlier-designations\":[false,false,false,false,false,false,false,false,false,false],\"degree\":3,\"coeffs\":[0.9615825593469994,-0.2436614294394242,0.2610712962134925,0.01900466164808343]},{\"inlier-noise\":1.3753125458174218,\"outlier-noise\":7.244451408593593,\"prob-outlier\":0.06793107992092472,\"outlier-designations\":[false,false,false,false,true,false,false,false,false,false],\"degree\":2,\"coeffs\":[-0.4707770222517963,0.06565660502067172,0.23218301775783834]},{\"inlier-noise\":0.2610404319591143,\"outlier-noise\":6.851804665113205,\"prob-outlier\":0.11983367373503546,\"outlier-designations\":[false,false,false,false,true,false,false,false,false,false],\"degree\":2,\"coeffs\":[-1.0035053567229861,0.25814171386257956,0.29795519875996146]},{\"inlier-noise\":0.7261617635093727,\"outlier-noise\":10.548953576494473,\"prob-outlier\":0.08903333361835185,\"outlier-designations\":[false,false,false,false,true,false,false,false,false,false],\"degree\":3,\"coeffs\":[-0.7522080307871438,-0.47953032758390146,0.26381171659634395,0.029507376623972775]},{\"inlier-noise\":1.3754611154208334,\"outlier-noise\":9.133693197311578,\"prob-outlier\":0.07347991697173753,\"outlier-designations\":[false,false,false,false,false,false,false,false,false,false],\"degree\":2,\"coeffs\":[-0.91240976143433,-0.04280694338877444,0.3042172780513666]},{\"inlier-noise\":0.07125925009542661,\"outlier-noise\":4.800906030253322,\"prob-outlier\":0.1303493414392669,\"outlier-designations\":[false,false,false,false,true,false,false,false,false,false],\"degree\":2,\"coeffs\":[-0.8953602363376686,0.2078251674453979,0.2910948587044838]},{\"inlier-noise\":0.22218765055502193,\"outlier-noise\":8.115031052265381,\"prob-outlier\":0.11839376794566064,\"outlier-designations\":[false,false,false,false,true,false,false,false,false,false],\"degree\":2,\"coeffs\":[-1.0789528253830547,0.16477842613201082,0.292667756234308]},{\"inlier-noise\":0.29458573268548466,\"outlier-noise\":2.356922221625949,\"prob-outlier\":0.11407841585856346,\"outlier-designations\":[false,false,false,false,true,false,false,false,false,false],\"degree\":2,\"coeffs\":[-0.619845652801296,0.13270567220632118,0.28053694697891285]},{\"inlier-noise\":0.18974090285904469,\"outlier-noise\":5.13295618325098,\"prob-outlier\":0.08804053206128687,\"outlier-designations\":[false,false,false,false,true,false,false,false,false,false],\"degree\":2,\"coeffs\":[-1.223059717084882,0.19892306003303498,0.3172985993036195]},{\"inlier-noise\":0.1873069021123996,\"outlier-noise\":6.836686694464204,\"prob-outlier\":0.058612235136551935,\"outlier-designations\":[false,false,false,false,true,false,false,false,false,false],\"degree\":2,\"coeffs\":[-1.3685211668099166,0.16189426741581353,0.3259454751843062]}],[{\"inlier-noise\":1.306865672864964,\"outlier-noise\":5.233034695114949,\"prob-outlier\":0.06643863384283429,\"outlier-designations\":[false,false,false,false,false,false,false,true,false,false],\"degree\":0,\"coeffs\":[-5.912624453924092]},{\"inlier-noise\":1.2763735443406632,\"outlier-noise\":6.309933915643409,\"prob-outlier\":0.07567589322197729,\"outlier-designations\":[false,false,false,false,false,false,false,true,false,false],\"degree\":1,\"coeffs\":[-5.936573328523336,-0.5066232828961479]},{\"inlier-noise\":1.4793280007677947,\"outlier-noise\":5.382873300626187,\"prob-outlier\":0.12293941130084998,\"outlier-designations\":[false,false,false,false,false,false,false,true,false,false],\"degree\":1,\"coeffs\":[-5.944137987229647,-0.6821098085328197]},{\"inlier-noise\":1.8718691901140023,\"outlier-noise\":11.63714953881994,\"prob-outlier\":0.08146107286373906,\"outlier-designations\":[false,false,false,false,false,false,false,true,false,false],\"degree\":0,\"coeffs\":[-6.998708047969252]},{\"inlier-noise\":0.7021749264855346,\"outlier-noise\":8.800345368449381,\"prob-outlier\":0.05822767819620234,\"outlier-designations\":[false,false,false,false,false,false,false,true,false,false],\"degree\":1,\"coeffs\":[-6.137987030327616,-0.40779998102905285]},{\"inlier-noise\":1.4180010202620932,\"outlier-noise\":13.081163884918782,\"prob-outlier\":0.057738904827348315,\"outlier-designations\":[false,false,false,false,false,false,false,true,false,false],\"degree\":0,\"coeffs\":[-5.676574127270705]},{\"inlier-noise\":1.8117009892172837,\"outlier-noise\":7.8421496394918035,\"prob-outlier\":0.10497456733687288,\"outlier-designations\":[false,false,false,false,false,false,false,true,false,false],\"degree\":0,\"coeffs\":[-4.464606096413679]},{\"inlier-noise\":1.4942547429825863,\"outlier-noise\":7.43114102384269,\"prob-outlier\":0.1651694355853716,\"outlier-designations\":[false,true,true,false,false,true,false,true,false,false],\"degree\":0,\"coeffs\":[-6.233708517294671]},{\"inlier-noise\":0.9545384008085108,\"outlier-noise\":4.783687015269453,\"prob-outlier\":0.13320670377894275,\"outlier-designations\":[false,false,false,false,false,false,false,true,false,false],\"degree\":1,\"coeffs\":[-5.972424153146303,-0.6695922263189135]},{\"inlier-noise\":1.450958366624306,\"outlier-noise\":12.532249062660311,\"prob-outlier\":0.03213752000912763,\"outlier-designations\":[false,false,false,false,false,false,false,true,false,false],\"degree\":0,\"coeffs\":[-5.513961513922929]}]]\n"
   ]
  }
 ],
 "metadata": {
  "kernelspec": {
   "display_name": "Lein-Clojure",
   "language": "clojure",
   "name": "lein-clojure"
  },
  "language_info": {
   "file_extension": ".clj",
   "mimetype": "text/x-clojure",
   "name": "clojure",
   "version": "1.9.0"
  }
 },
 "nbformat": 4,
 "nbformat_minor": 2
}
