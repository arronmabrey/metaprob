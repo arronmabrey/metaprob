{
 "cells": [
  {
   "cell_type": "code",
   "execution_count": 1,
   "metadata": {},
   "outputs": [],
   "source": [
    "(ns aide\n",
    "  (:refer-clojure :exclude [get contains? keys empty? dissoc assoc get-in\n",
    "                            map replicate apply])\n",
    "  (:require [clojure.pprint :refer [pprint]]\n",
    "            [metaprob.syntax :refer [gen]]\n",
    "            [metaprob.compound :refer :all] ;; get, contains?, keys, empty?, dissoc, assoc, get-in\n",
    "            [metaprob.builtin :refer :all] ;; map, reduce, replicate, apply\n",
    "            [metaprob.trace :refer :all]\n",
    "            [metaprob.autotrace :refer :all]\n",
    "            [metaprob.prelude :refer :all]\n",
    "            [metaprob.inference :refer :all]\n",
    "            [metaprob.intervention :refer :all]\n",
    "            [metaprob.distributions :refer :all]))"
   ]
  },
  {
   "cell_type": "markdown",
   "metadata": {},
   "source": [
    "# Importance Resampling as a custom Generative Function"
   ]
  },
  {
   "cell_type": "markdown",
   "metadata": {},
   "source": [
    "### Inference model of importance resampling"
   ]
  },
  {
   "cell_type": "code",
   "execution_count": 3,
   "metadata": {},
   "outputs": [
    {
     "data": {
      "text/plain": [
       "#'aide/importance-resampling-model"
      ]
     },
     "execution_count": 3,
     "metadata": {},
     "output_type": "execute_result"
    }
   ],
   "source": [
    "(def importance-resampling-model\n",
    "  (gen {:tracing-with t} [model inputs observations N]\n",
    "    \n",
    "    ;; Generate N particles of the form [trace weight], and choose one\n",
    "    (let [particles\n",
    "          (t \"particles\" replicate N (gen {:tracing-with u} []\n",
    "                                          (let [[_ t s]\n",
    "                                                (u '() infer-and-score\n",
    "                                                   :procedure model\n",
    "                                                   :inputs inputs\n",
    "                                                   :observation-trace observations)]\n",
    "                                              [t s])))\n",
    "          chosen-index\n",
    "          (t \"chosen-index\" log-categorical (map second particles))\n",
    "          \n",
    "          chosen-particle\n",
    "          (first (nth particles chosen-index))]\n",
    "      \n",
    "      ;; \"Act out\" the chosen particle, so that its choices are (in theory) constrainable\n",
    "      (dorun \n",
    "        (map #(t `(\"inferred-trace\" ~@%) exactly (trace-value chosen-particle %))\n",
    "             (addresses-of chosen-particle)))\n",
    "\n",
    "      ;; Return the chosen particle\n",
    "      chosen-particle)))"
   ]
  },
  {
   "cell_type": "markdown",
   "metadata": {},
   "source": [
    "### Custom proposal for internal choices of importance resampling, given an observed sample trace\n",
    "This is used by the meta-inference algorithm. It traces at the same addresses as the model."
   ]
  },
  {
   "cell_type": "code",
   "execution_count": 4,
   "metadata": {},
   "outputs": [
    {
     "data": {
      "text/plain": [
       "#'aide/importance-resampling-proposal"
      ]
     },
     "execution_count": 4,
     "metadata": {},
     "output_type": "execute_result"
    }
   ],
   "source": [
    "(def importance-resampling-proposal\n",
    "  (gen {:tracing-with t} [[model inputs observations N] chosen-particle]\n",
    "    ;; Auxiliary variable:\n",
    "    ;; Choose an index at uniform at which to put the observed particle.\n",
    "    (let [chosen-index (t \"chosen-index\" uniform-sample (range N))]\n",
    "      \n",
    "      ;; \"Act out\" choosing `chosen-particle` at the given index, and at chosen-particle\n",
    "      (dorun \n",
    "        (map #(do (t `(\"particles\" ~chosen-index ~@%) exactly (trace-value chosen-particle %))\n",
    "                  (t `(\"inferred-trace\" ~@%) exactly (trace-value chosen-particle %)))\n",
    "          (addresses-of chosen-particle)))\n",
    "          \n",
    "      ;; Generate the other N-1 particles at the other indices\n",
    "      (dorun\n",
    "        (map #(t `(\"particles\" ~%) \n",
    "                infer-and-score\n",
    "                  :procedure model \n",
    "                  :inputs inputs \n",
    "                  :observation-trace observations)\n",
    "          (filter #(not= % chosen-index) (range N)))))))"
   ]
  },
  {
   "cell_type": "markdown",
   "metadata": {},
   "source": [
    "### Meta-inference algorithm (custom `infer-and-score` for `importance-resampling`)"
   ]
  },
  {
   "cell_type": "code",
   "execution_count": 5,
   "metadata": {},
   "outputs": [
    {
     "data": {
      "text/plain": [
       "#'aide/importance-resampling-custom-infer-and-score"
      ]
     },
     "execution_count": 5,
     "metadata": {},
     "output_type": "execute_result"
    }
   ],
   "source": [
    "(def importance-resampling-custom-infer-and-score\n",
    "  (gen {:tracing-with t} [[model inputs model-observations N] inference-algorithm-constraints]\n",
    "    \n",
    "    ;; Check if the inference address is constrained\n",
    "    (if (trace-has-subtrace? inference-algorithm-constraints \"inferred-trace\")\n",
    "      \n",
    "      ;; If so, use the proposal\n",
    "      (let [chosen-particle (trace-subtrace inference-algorithm-constraints \"inferred-trace\")\n",
    "            \n",
    "            ;; Get proposed trace of importance sampling algorithm.\n",
    "            [_ proposed-trace _]\n",
    "            (t '() infer-and-score :procedure importance-resampling-proposal\n",
    "                                   :inputs [[model inputs model-observations N] chosen-particle])\n",
    "            \n",
    "            ;; Score the proposed trace under the meta-inference algorithm's proposal.\n",
    "            [_ _ proposal-score]\n",
    "            (infer-and-score :procedure importance-resampling-proposal \n",
    "                             :inputs [[model inputs model-observations N] chosen-particle]\n",
    "                             :observation-trace proposed-trace)\n",
    "            \n",
    "            ;; Score the proposed trace under the inference model.\n",
    "            [_ _ model-score]\n",
    "            (infer-and-score :procedure importance-resampling-model \n",
    "                             :inputs [model inputs model-observations N]\n",
    "                             :observation-trace proposed-trace)]\n",
    "          \n",
    "        ;; Return the value, trace, and score log p/q\n",
    "        [chosen-particle\n",
    "         proposed-trace\n",
    "         (- model-score proposal-score)])\n",
    "      \n",
    "      ;; Otherwise, just use default infer-and-score\n",
    "      (infer-and-score :procedure importance-resampling-model\n",
    "                       :inputs [model inputs model-observations N]\n",
    "                       :observation-trace inference-algorithm-constraints))))"
   ]
  },
  {
   "cell_type": "markdown",
   "metadata": {},
   "source": [
    "### Custom generative function implementing importance resampling"
   ]
  },
  {
   "cell_type": "code",
   "execution_count": 6,
   "metadata": {},
   "outputs": [
    {
     "data": {
      "text/plain": [
       "#'aide/importance-resampling-aide"
      ]
     },
     "execution_count": 6,
     "metadata": {},
     "output_type": "execute_result"
    }
   ],
   "source": [
    ";; The final importance-resampling inference algorithm for use with AIDE;\n",
    ";; uses an `inf` to put together model and custom infer-and-score.\n",
    "(def importance-resampling-aide\n",
    "    (inf importance-resampling-model importance-resampling-custom-infer-and-score))"
   ]
  },
  {
   "cell_type": "markdown",
   "metadata": {},
   "source": [
    "# An example problem with gold-standard and approximate inference algorithms"
   ]
  },
  {
   "cell_type": "markdown",
   "metadata": {},
   "source": [
    "We consider the following model: $p \\sim \\text{Beta}(1, 1), x \\sim \\text{Bernoulli}(p)$."
   ]
  },
  {
   "cell_type": "code",
   "execution_count": 7,
   "metadata": {},
   "outputs": [
    {
     "data": {
      "text/plain": [
       "#'aide/simple-model"
      ]
     },
     "execution_count": 7,
     "metadata": {},
     "output_type": "execute_result"
    }
   ],
   "source": [
    "(def simple-model (gen {:tracing-with t} [] (t \"x\" flip (t \"p\" beta 1 1))))"
   ]
  },
  {
   "cell_type": "markdown",
   "metadata": {},
   "source": [
    "Suppose we have seen $x = \\text{true}$. Then $p_{p|x}(p \\mid x = \\text{true}) = \\text{Beta}(2, 1)$, so we can write an exact gold standard inference algorithm:"
   ]
  },
  {
   "cell_type": "code",
   "execution_count": 8,
   "metadata": {},
   "outputs": [
    {
     "data": {
      "text/plain": [
       "#'aide/simple-gold-standard"
      ]
     },
     "execution_count": 8,
     "metadata": {},
     "output_type": "execute_result"
    }
   ],
   "source": [
    "(def simple-gold-standard\n",
    "  ;; An inference model returns an inferred trace, and also\n",
    "  ;; acts out the inferred trace.\n",
    "  (gen {:tracing-with t} [] \n",
    "    {\"p\" {:value (t `(\"inferred-trace\" \"p\") beta 2 1)}}))"
   ]
  },
  {
   "cell_type": "markdown",
   "metadata": {},
   "source": [
    "We now write a helper that creates target inference algorithms which use importance resampling with a custom number of particles:"
   ]
  },
  {
   "cell_type": "code",
   "execution_count": 9,
   "metadata": {},
   "outputs": [
    {
     "data": {
      "text/plain": [
       "#'aide/make-simple-target-inference-model"
      ]
     },
     "execution_count": 9,
     "metadata": {},
     "output_type": "execute_result"
    }
   ],
   "source": [
    "(defn make-simple-target-inference-model [n-particles]\n",
    "  (gen {:tracing-with t} []\n",
    "    (t '() importance-resampling-aide simple-model [] {\"x\" {:value true}} n-particles)))"
   ]
  },
  {
   "cell_type": "markdown",
   "metadata": {},
   "source": [
    "We can use it to make a few possible inference algorithms for this problem:"
   ]
  },
  {
   "cell_type": "code",
   "execution_count": 10,
   "metadata": {},
   "outputs": [
    {
     "data": {
      "text/plain": [
       "#'aide/infer-with-15-particles"
      ]
     },
     "execution_count": 10,
     "metadata": {},
     "output_type": "execute_result"
    }
   ],
   "source": [
    "(def infer-with-1-particle (make-simple-target-inference-model 1))\n",
    "(def infer-with-2-particles (make-simple-target-inference-model 2))\n",
    "(def infer-with-3-particles (make-simple-target-inference-model 3))\n",
    "(def infer-with-5-particles (make-simple-target-inference-model 5))\n",
    "(def infer-with-10-particles (make-simple-target-inference-model 10))\n",
    "(def infer-with-15-particles (make-simple-target-inference-model 15))"
   ]
  },
  {
   "cell_type": "markdown",
   "metadata": {},
   "source": [
    "# Implementation of AIDE"
   ]
  },
  {
   "cell_type": "code",
   "execution_count": 11,
   "metadata": {},
   "outputs": [
    {
     "data": {
      "text/plain": [
       "#'aide/avg"
      ]
     },
     "execution_count": 11,
     "metadata": {},
     "output_type": "execute_result"
    }
   ],
   "source": [
    ";; Helpers\n",
    "(def logsumexp\n",
    "  (gen [weights]\n",
    "    (let [max-weight (apply max weights)\n",
    "          numerically-stable-scores (map #(- % max-weight) weights)\n",
    "          weights (map exp numerically-stable-scores)]\n",
    "      (+ (log (apply + weights)) max-weight))))\n",
    "(defn logmeanexp [weights] (- (logsumexp weights) (log (count weights))))\n",
    "(defn avg [xs] (/ (reduce + xs) (count xs)))"
   ]
  },
  {
   "cell_type": "code",
   "execution_count": 12,
   "metadata": {},
   "outputs": [
    {
     "data": {
      "text/plain": [
       "#'aide/aide"
      ]
     },
     "execution_count": 12,
     "metadata": {},
     "output_type": "execute_result"
    }
   ],
   "source": [
    ";; AIDE\n",
    "(defn aide [gold-standard inference-model inference-addresses Ng Mg Nt Mt]\n",
    "  (let [gold-standard-traces\n",
    "        (map #(partition-trace % inference-addresses) \n",
    "             (replicate Ng #(nth (infer-and-score :procedure gold-standard) 1)))\n",
    "        \n",
    "        inference-model-traces\n",
    "        (map #(partition-trace % inference-addresses)\n",
    "             (replicate Nt #(nth (infer-and-score :procedure inference-model) 1)))\n",
    "                \n",
    "        gold-standard-on-gold-standard-x-scores\n",
    "        (map (gen [[x u]] (logmeanexp \n",
    "                            (cons \n",
    "                              ;; First score is special: reuse randomness from initial draw\n",
    "                              (nth ((intervene infer-and-score u)\n",
    "                                     :procedure gold-standard,\n",
    "                                     :observation-trace x) 2)\n",
    "                              ;; Last ones are regular `infer-and-score` scores:\n",
    "                              (replicate (- Mg 1) #(nth (infer-and-score \n",
    "                                                         :procedure gold-standard,\n",
    "                                                         :observation-trace x) 2)))))\n",
    "             gold-standard-traces)\n",
    "                \n",
    "        inference-model-on-gold-standard-x-scores\n",
    "        (map (gen [[x u]] (logmeanexp \n",
    "                            (replicate Mt #(nth (infer-and-score \n",
    "                                                  :procedure inference-model, \n",
    "                                                  :observation-trace x) 2))))\n",
    "             gold-standard-traces)\n",
    "        \n",
    "        gold-standard-on-inference-model-x-scores\n",
    "        (map (gen [[x v]] (logmeanexp\n",
    "                            (replicate Mg #(nth (infer-and-score \n",
    "                                                  :procedure gold-standard, \n",
    "                                                  :observation-trace x) 2))))\n",
    "             inference-model-traces)\n",
    "        \n",
    "        inference-model-on-inference-model-x-scores\n",
    "        (map (gen [[x v]] (logmeanexp \n",
    "                            (cons\n",
    "                              (nth ((intervene infer-and-score v)\n",
    "                                      :procedure inference-model\n",
    "                                      :observation-trace x) 2)\n",
    "                              (replicate (- Mt 1) #(nth (infer-and-score \n",
    "                                                          :procedure inference-model, \n",
    "                                                          :observation-trace x) 2)))))\n",
    "             inference-model-traces)]\n",
    "        \n",
    "        ;; Use Clojure's version of `map`, which can take two lists l and m, \n",
    "        ;; and apply a function (like -) to l[0],m[0], l[1],m[1], etc.\n",
    "        (+ (avg (clojure.core/map - \n",
    "                                  gold-standard-on-gold-standard-x-scores \n",
    "                                  inference-model-on-gold-standard-x-scores))\n",
    "           (avg (clojure.core/map - \n",
    "                                  inference-model-on-inference-model-x-scores \n",
    "                                  gold-standard-on-inference-model-x-scores)))))"
   ]
  },
  {
   "cell_type": "markdown",
   "metadata": {},
   "source": [
    "# Applying AIDE to our problem"
   ]
  },
  {
   "cell_type": "markdown",
   "metadata": {},
   "source": [
    "We can now apply AIDE to measure the quality of our approximate inference algorithms. Note that AIDE is an estimator of a bound, and has some variance -- as such, not all runs of the following lines will show monotonically decreasing scores."
   ]
  },
  {
   "cell_type": "code",
   "execution_count": 13,
   "metadata": {},
   "outputs": [
    {
     "data": {
      "text/plain": [
       "0.47421082638197104"
      ]
     },
     "execution_count": 13,
     "metadata": {},
     "output_type": "execute_result"
    }
   ],
   "source": [
    "(aide simple-gold-standard infer-with-1-particle '((\"inferred-trace\" \"p\")) 500 1, 500 100)"
   ]
  },
  {
   "cell_type": "code",
   "execution_count": 14,
   "metadata": {},
   "outputs": [
    {
     "data": {
      "text/plain": [
       "0.08480496734363628"
      ]
     },
     "execution_count": 14,
     "metadata": {},
     "output_type": "execute_result"
    }
   ],
   "source": [
    "(aide simple-gold-standard infer-with-2-particles '((\"inferred-trace\" \"p\")) 500 1, 500 100)"
   ]
  },
  {
   "cell_type": "code",
   "execution_count": 15,
   "metadata": {},
   "outputs": [
    {
     "data": {
      "text/plain": [
       "0.022750454662930512"
      ]
     },
     "execution_count": 15,
     "metadata": {},
     "output_type": "execute_result"
    }
   ],
   "source": [
    "(aide simple-gold-standard infer-with-3-particles '((\"inferred-trace\" \"p\")) 500 1, 500 100)"
   ]
  },
  {
   "cell_type": "code",
   "execution_count": 16,
   "metadata": {},
   "outputs": [
    {
     "data": {
      "text/plain": [
       "0.013120301574122084"
      ]
     },
     "execution_count": 16,
     "metadata": {},
     "output_type": "execute_result"
    }
   ],
   "source": [
    "(aide simple-gold-standard infer-with-5-particles '((\"inferred-trace\" \"p\")) 500 1, 500 100)"
   ]
  },
  {
   "cell_type": "code",
   "execution_count": 17,
   "metadata": {},
   "outputs": [
    {
     "data": {
      "text/plain": [
       "0.008702897113704677"
      ]
     },
     "execution_count": 17,
     "metadata": {},
     "output_type": "execute_result"
    }
   ],
   "source": [
    "(aide simple-gold-standard infer-with-10-particles '((\"inferred-trace\" \"p\")) 500 1, 500 100)"
   ]
  },
  {
   "cell_type": "code",
   "execution_count": 18,
   "metadata": {},
   "outputs": [
    {
     "data": {
      "text/plain": [
       "0.0025340203967869224"
      ]
     },
     "execution_count": 18,
     "metadata": {},
     "output_type": "execute_result"
    }
   ],
   "source": [
    "(aide simple-gold-standard infer-with-15-particles '((\"inferred-trace\" \"p\")) 500 1, 500 100)"
   ]
  }
 ],
 "metadata": {
  "kernelspec": {
   "display_name": "Lein-Clojure",
   "language": "clojure",
   "name": "lein-clojure"
  },
  "language_info": {
   "file_extension": ".clj",
   "mimetype": "text/x-clojure",
   "name": "clojure",
   "version": "1.9.0"
  }
 },
 "nbformat": 4,
 "nbformat_minor": 2
}
